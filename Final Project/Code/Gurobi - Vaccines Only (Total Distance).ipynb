{
 "cells": [
  {
   "cell_type": "markdown",
   "metadata": {},
   "source": [
    "# Gurobi Optimization - Minimizing Total Distance"
   ]
  },
  {
   "cell_type": "code",
   "execution_count": 1,
   "metadata": {},
   "outputs": [],
   "source": [
    "import gurobipy as gp\n",
    "from gurobipy import *\n",
    "import numpy as np\n",
    "import csv\n",
    "import os\n",
    "import matplotlib.pyplot as plt\n",
    "import warnings\n",
    "import math\n",
    "import pandas as pd\n",
    "import random\n",
    "\n",
    "warnings.filterwarnings(\"ignore\") # To ignore warnings produced"
   ]
  },
  {
   "cell_type": "code",
   "execution_count": 2,
   "metadata": {},
   "outputs": [
    {
     "data": {
      "text/html": [
       "<div>\n",
       "<style scoped>\n",
       "    .dataframe tbody tr th:only-of-type {\n",
       "        vertical-align: middle;\n",
       "    }\n",
       "\n",
       "    .dataframe tbody tr th {\n",
       "        vertical-align: top;\n",
       "    }\n",
       "\n",
       "    .dataframe thead th {\n",
       "        text-align: right;\n",
       "    }\n",
       "</style>\n",
       "<table border=\"1\" class=\"dataframe\">\n",
       "  <thead>\n",
       "    <tr style=\"text-align: right;\">\n",
       "      <th></th>\n",
       "      <th>OBJECTID</th>\n",
       "      <th>ZIP</th>\n",
       "      <th>NAME</th>\n",
       "      <th>ZIPTYPE</th>\n",
       "      <th>STATE</th>\n",
       "      <th>STATEFIPS</th>\n",
       "      <th>COUNTYFIPS</th>\n",
       "      <th>COUNTYNAME</th>\n",
       "      <th>S3DZIP</th>\n",
       "      <th>LAT</th>\n",
       "      <th>...</th>\n",
       "      <th>MFDU</th>\n",
       "      <th>SFDU</th>\n",
       "      <th>BOXCNT</th>\n",
       "      <th>BIZCNT</th>\n",
       "      <th>RELVER</th>\n",
       "      <th>COLOR</th>\n",
       "      <th>GlobalID</th>\n",
       "      <th>SHAPESTArea</th>\n",
       "      <th>SHAPESTLength</th>\n",
       "      <th>population</th>\n",
       "    </tr>\n",
       "  </thead>\n",
       "  <tbody>\n",
       "    <tr>\n",
       "      <th>0</th>\n",
       "      <td>4</td>\n",
       "      <td>15057</td>\n",
       "      <td>BAKERSTOWN</td>\n",
       "      <td>NON-UNIQUE</td>\n",
       "      <td>PA</td>\n",
       "      <td>42.0</td>\n",
       "      <td>42003.0</td>\n",
       "      <td>ALLEGHENY</td>\n",
       "      <td>150.0</td>\n",
       "      <td>40.361610</td>\n",
       "      <td>...</td>\n",
       "      <td>0.0</td>\n",
       "      <td>107.0</td>\n",
       "      <td>66.0</td>\n",
       "      <td>55.0</td>\n",
       "      <td>1.9.3</td>\n",
       "      <td>10.0</td>\n",
       "      <td>{4768B869-6BC2-4B77-8DC7-A3BB678888D1}</td>\n",
       "      <td>1.337121e+07</td>\n",
       "      <td>20129.308120</td>\n",
       "      <td>6738</td>\n",
       "    </tr>\n",
       "    <tr>\n",
       "      <th>1</th>\n",
       "      <td>4</td>\n",
       "      <td>15206</td>\n",
       "      <td>BAKERSTOWN</td>\n",
       "      <td>NON-UNIQUE</td>\n",
       "      <td>PA</td>\n",
       "      <td>42.0</td>\n",
       "      <td>42003.0</td>\n",
       "      <td>ALLEGHENY</td>\n",
       "      <td>150.0</td>\n",
       "      <td>40.467710</td>\n",
       "      <td>...</td>\n",
       "      <td>0.0</td>\n",
       "      <td>107.0</td>\n",
       "      <td>66.0</td>\n",
       "      <td>55.0</td>\n",
       "      <td>1.9.3</td>\n",
       "      <td>10.0</td>\n",
       "      <td>{4768B869-6BC2-4B77-8DC7-A3BB678888D1}</td>\n",
       "      <td>1.337121e+07</td>\n",
       "      <td>20129.308120</td>\n",
       "      <td>22090</td>\n",
       "    </tr>\n",
       "    <tr>\n",
       "      <th>2</th>\n",
       "      <td>4</td>\n",
       "      <td>15214</td>\n",
       "      <td>BAKERSTOWN</td>\n",
       "      <td>NON-UNIQUE</td>\n",
       "      <td>PA</td>\n",
       "      <td>42.0</td>\n",
       "      <td>42003.0</td>\n",
       "      <td>ALLEGHENY</td>\n",
       "      <td>150.0</td>\n",
       "      <td>40.483220</td>\n",
       "      <td>...</td>\n",
       "      <td>0.0</td>\n",
       "      <td>107.0</td>\n",
       "      <td>66.0</td>\n",
       "      <td>55.0</td>\n",
       "      <td>1.9.3</td>\n",
       "      <td>10.0</td>\n",
       "      <td>{4768B869-6BC2-4B77-8DC7-A3BB678888D1}</td>\n",
       "      <td>1.337121e+07</td>\n",
       "      <td>20129.308120</td>\n",
       "      <td>12010</td>\n",
       "    </tr>\n",
       "    <tr>\n",
       "      <th>3</th>\n",
       "      <td>4</td>\n",
       "      <td>15229</td>\n",
       "      <td>BAKERSTOWN</td>\n",
       "      <td>NON-UNIQUE</td>\n",
       "      <td>PA</td>\n",
       "      <td>42.0</td>\n",
       "      <td>42003.0</td>\n",
       "      <td>ALLEGHENY</td>\n",
       "      <td>150.0</td>\n",
       "      <td>40.517330</td>\n",
       "      <td>...</td>\n",
       "      <td>0.0</td>\n",
       "      <td>107.0</td>\n",
       "      <td>66.0</td>\n",
       "      <td>55.0</td>\n",
       "      <td>1.9.3</td>\n",
       "      <td>10.0</td>\n",
       "      <td>{4768B869-6BC2-4B77-8DC7-A3BB678888D1}</td>\n",
       "      <td>1.337121e+07</td>\n",
       "      <td>20129.308120</td>\n",
       "      <td>13410</td>\n",
       "    </tr>\n",
       "    <tr>\n",
       "      <th>4</th>\n",
       "      <td>4</td>\n",
       "      <td>15228</td>\n",
       "      <td>BAKERSTOWN</td>\n",
       "      <td>NON-UNIQUE</td>\n",
       "      <td>PA</td>\n",
       "      <td>42.0</td>\n",
       "      <td>42003.0</td>\n",
       "      <td>ALLEGHENY</td>\n",
       "      <td>150.0</td>\n",
       "      <td>40.368810</td>\n",
       "      <td>...</td>\n",
       "      <td>0.0</td>\n",
       "      <td>107.0</td>\n",
       "      <td>66.0</td>\n",
       "      <td>55.0</td>\n",
       "      <td>1.9.3</td>\n",
       "      <td>10.0</td>\n",
       "      <td>{4768B869-6BC2-4B77-8DC7-A3BB678888D1}</td>\n",
       "      <td>1.337121e+07</td>\n",
       "      <td>20129.308120</td>\n",
       "      <td>17180</td>\n",
       "    </tr>\n",
       "    <tr>\n",
       "      <th>...</th>\n",
       "      <td>...</td>\n",
       "      <td>...</td>\n",
       "      <td>...</td>\n",
       "      <td>...</td>\n",
       "      <td>...</td>\n",
       "      <td>...</td>\n",
       "      <td>...</td>\n",
       "      <td>...</td>\n",
       "      <td>...</td>\n",
       "      <td>...</td>\n",
       "      <td>...</td>\n",
       "      <td>...</td>\n",
       "      <td>...</td>\n",
       "      <td>...</td>\n",
       "      <td>...</td>\n",
       "      <td>...</td>\n",
       "      <td>...</td>\n",
       "      <td>...</td>\n",
       "      <td>...</td>\n",
       "      <td>...</td>\n",
       "      <td>...</td>\n",
       "    </tr>\n",
       "    <tr>\n",
       "      <th>119</th>\n",
       "      <td>65824</td>\n",
       "      <td>15047</td>\n",
       "      <td>GREENOCK</td>\n",
       "      <td>PO BOX</td>\n",
       "      <td>PA</td>\n",
       "      <td>42.0</td>\n",
       "      <td>42003.0</td>\n",
       "      <td>ALLEGHENY</td>\n",
       "      <td>150.0</td>\n",
       "      <td>40.609477</td>\n",
       "      <td>...</td>\n",
       "      <td>0.0</td>\n",
       "      <td>1.0</td>\n",
       "      <td>162.0</td>\n",
       "      <td>16.0</td>\n",
       "      <td>1.9.3</td>\n",
       "      <td>15.0</td>\n",
       "      <td>{D0843174-66EC-4E75-82B3-87CF445999DA}</td>\n",
       "      <td>7.581705e+06</td>\n",
       "      <td>16838.182670</td>\n",
       "      <td>378</td>\n",
       "    </tr>\n",
       "    <tr>\n",
       "      <th>122</th>\n",
       "      <td>65828</td>\n",
       "      <td>15032</td>\n",
       "      <td>CURTISVILLE</td>\n",
       "      <td>PO BOX</td>\n",
       "      <td>PA</td>\n",
       "      <td>42.0</td>\n",
       "      <td>42003.0</td>\n",
       "      <td>ALLEGHENY</td>\n",
       "      <td>150.0</td>\n",
       "      <td>40.382820</td>\n",
       "      <td>...</td>\n",
       "      <td>346.0</td>\n",
       "      <td>4134.0</td>\n",
       "      <td>58.0</td>\n",
       "      <td>472.0</td>\n",
       "      <td>1.9.3</td>\n",
       "      <td>6.0</td>\n",
       "      <td>{DB50227E-70F4-42B6-8520-7459A48CA185}</td>\n",
       "      <td>8.121033e+02</td>\n",
       "      <td>124.463622</td>\n",
       "      <td>244</td>\n",
       "    </tr>\n",
       "    <tr>\n",
       "      <th>124</th>\n",
       "      <td>65837</td>\n",
       "      <td>15221</td>\n",
       "      <td>PITTSBURGH</td>\n",
       "      <td>NON-UNIQUE</td>\n",
       "      <td>PA</td>\n",
       "      <td>42.0</td>\n",
       "      <td>42003.0</td>\n",
       "      <td>ALLEGHENY</td>\n",
       "      <td>152.0</td>\n",
       "      <td>40.467750</td>\n",
       "      <td>...</td>\n",
       "      <td>3486.0</td>\n",
       "      <td>12256.0</td>\n",
       "      <td>298.0</td>\n",
       "      <td>826.0</td>\n",
       "      <td>1.9.3</td>\n",
       "      <td>11.0</td>\n",
       "      <td>{FD9F8061-8A24-42E9-B338-E4E0AD2E4902}</td>\n",
       "      <td>1.661810e+08</td>\n",
       "      <td>94732.735410</td>\n",
       "      <td>23860</td>\n",
       "    </tr>\n",
       "    <tr>\n",
       "      <th>125</th>\n",
       "      <td>65839</td>\n",
       "      <td>15205</td>\n",
       "      <td>PITTSBURGH</td>\n",
       "      <td>NON-UNIQUE</td>\n",
       "      <td>PA</td>\n",
       "      <td>42.0</td>\n",
       "      <td>42003.0</td>\n",
       "      <td>ALLEGHENY</td>\n",
       "      <td>152.0</td>\n",
       "      <td>40.483220</td>\n",
       "      <td>...</td>\n",
       "      <td>1718.0</td>\n",
       "      <td>8997.0</td>\n",
       "      <td>116.0</td>\n",
       "      <td>1222.0</td>\n",
       "      <td>1.9.3</td>\n",
       "      <td>11.0</td>\n",
       "      <td>{0DA8A3EB-2BBC-4D9A-B932-9C9C9BF5E3E3}</td>\n",
       "      <td>3.850844e+08</td>\n",
       "      <td>236307.108000</td>\n",
       "      <td>20320</td>\n",
       "    </tr>\n",
       "    <tr>\n",
       "      <th>126</th>\n",
       "      <td>65841</td>\n",
       "      <td>15202</td>\n",
       "      <td>PITTSBURGH</td>\n",
       "      <td>NON-UNIQUE</td>\n",
       "      <td>PA</td>\n",
       "      <td>42.0</td>\n",
       "      <td>42003.0</td>\n",
       "      <td>ALLEGHENY</td>\n",
       "      <td>152.0</td>\n",
       "      <td>40.370729</td>\n",
       "      <td>...</td>\n",
       "      <td>2933.0</td>\n",
       "      <td>10866.0</td>\n",
       "      <td>291.0</td>\n",
       "      <td>961.0</td>\n",
       "      <td>1.9.3</td>\n",
       "      <td>8.0</td>\n",
       "      <td>{596780DC-3492-441C-B852-8ED5E8E6875C}</td>\n",
       "      <td>1.466148e+08</td>\n",
       "      <td>96608.040310</td>\n",
       "      <td>17220</td>\n",
       "    </tr>\n",
       "  </tbody>\n",
       "</table>\n",
       "<p>97 rows × 23 columns</p>\n",
       "</div>"
      ],
      "text/plain": [
       "     OBJECTID    ZIP         NAME     ZIPTYPE STATE  STATEFIPS  COUNTYFIPS  \\\n",
       "0           4  15057   BAKERSTOWN  NON-UNIQUE    PA       42.0     42003.0   \n",
       "1           4  15206   BAKERSTOWN  NON-UNIQUE    PA       42.0     42003.0   \n",
       "2           4  15214   BAKERSTOWN  NON-UNIQUE    PA       42.0     42003.0   \n",
       "3           4  15229   BAKERSTOWN  NON-UNIQUE    PA       42.0     42003.0   \n",
       "4           4  15228   BAKERSTOWN  NON-UNIQUE    PA       42.0     42003.0   \n",
       "..        ...    ...          ...         ...   ...        ...         ...   \n",
       "119     65824  15047     GREENOCK      PO BOX    PA       42.0     42003.0   \n",
       "122     65828  15032  CURTISVILLE      PO BOX    PA       42.0     42003.0   \n",
       "124     65837  15221   PITTSBURGH  NON-UNIQUE    PA       42.0     42003.0   \n",
       "125     65839  15205   PITTSBURGH  NON-UNIQUE    PA       42.0     42003.0   \n",
       "126     65841  15202   PITTSBURGH  NON-UNIQUE    PA       42.0     42003.0   \n",
       "\n",
       "    COUNTYNAME  S3DZIP        LAT  ...    MFDU     SFDU  BOXCNT  BIZCNT  \\\n",
       "0    ALLEGHENY   150.0  40.361610  ...     0.0    107.0    66.0    55.0   \n",
       "1    ALLEGHENY   150.0  40.467710  ...     0.0    107.0    66.0    55.0   \n",
       "2    ALLEGHENY   150.0  40.483220  ...     0.0    107.0    66.0    55.0   \n",
       "3    ALLEGHENY   150.0  40.517330  ...     0.0    107.0    66.0    55.0   \n",
       "4    ALLEGHENY   150.0  40.368810  ...     0.0    107.0    66.0    55.0   \n",
       "..         ...     ...        ...  ...     ...      ...     ...     ...   \n",
       "119  ALLEGHENY   150.0  40.609477  ...     0.0      1.0   162.0    16.0   \n",
       "122  ALLEGHENY   150.0  40.382820  ...   346.0   4134.0    58.0   472.0   \n",
       "124  ALLEGHENY   152.0  40.467750  ...  3486.0  12256.0   298.0   826.0   \n",
       "125  ALLEGHENY   152.0  40.483220  ...  1718.0   8997.0   116.0  1222.0   \n",
       "126  ALLEGHENY   152.0  40.370729  ...  2933.0  10866.0   291.0   961.0   \n",
       "\n",
       "     RELVER  COLOR                                GlobalID   SHAPESTArea  \\\n",
       "0     1.9.3   10.0  {4768B869-6BC2-4B77-8DC7-A3BB678888D1}  1.337121e+07   \n",
       "1     1.9.3   10.0  {4768B869-6BC2-4B77-8DC7-A3BB678888D1}  1.337121e+07   \n",
       "2     1.9.3   10.0  {4768B869-6BC2-4B77-8DC7-A3BB678888D1}  1.337121e+07   \n",
       "3     1.9.3   10.0  {4768B869-6BC2-4B77-8DC7-A3BB678888D1}  1.337121e+07   \n",
       "4     1.9.3   10.0  {4768B869-6BC2-4B77-8DC7-A3BB678888D1}  1.337121e+07   \n",
       "..      ...    ...                                     ...           ...   \n",
       "119   1.9.3   15.0  {D0843174-66EC-4E75-82B3-87CF445999DA}  7.581705e+06   \n",
       "122   1.9.3    6.0  {DB50227E-70F4-42B6-8520-7459A48CA185}  8.121033e+02   \n",
       "124   1.9.3   11.0  {FD9F8061-8A24-42E9-B338-E4E0AD2E4902}  1.661810e+08   \n",
       "125   1.9.3   11.0  {0DA8A3EB-2BBC-4D9A-B932-9C9C9BF5E3E3}  3.850844e+08   \n",
       "126   1.9.3    8.0  {596780DC-3492-441C-B852-8ED5E8E6875C}  1.466148e+08   \n",
       "\n",
       "     SHAPESTLength population  \n",
       "0     20129.308120       6738  \n",
       "1     20129.308120      22090  \n",
       "2     20129.308120      12010  \n",
       "3     20129.308120      13410  \n",
       "4     20129.308120      17180  \n",
       "..             ...        ...  \n",
       "119   16838.182670        378  \n",
       "122     124.463622        244  \n",
       "124   94732.735410      23860  \n",
       "125  236307.108000      20320  \n",
       "126   96608.040310      17220  \n",
       "\n",
       "[97 rows x 23 columns]"
      ]
     },
     "execution_count": 2,
     "metadata": {},
     "output_type": "execute_result"
    }
   ],
   "source": [
    "zips_df = pd.read_csv('Zipcode.csv')\n",
    "# zips_df\n",
    "zips_df = zips_df.loc[(zips_df['COUNTYNAME'] == 'ALLEGHENY') & (zips_df['population'] > 0)]\n",
    "zips_df\n"
   ]
  },
  {
   "cell_type": "code",
   "execution_count": 3,
   "metadata": {},
   "outputs": [],
   "source": [
    "zips = zips_df['ZIP'].to_list()\n",
    "# zips\n",
    "all_n = np.array(zips)\n",
    "# # zips\n",
    "# np.in1d(POD_zips, all_n)\n",
    "# 0,1,5,9,10,13,15,16,21,22,24,27,29,36\n",
    "# POD_zips[[0,1,5,9,10,13,15,16,21,22,24,27,29,36]]"
   ]
  },
  {
   "cell_type": "code",
   "execution_count": 4,
   "metadata": {},
   "outputs": [
    {
     "name": "stdout",
     "output_type": "stream",
     "text": [
      "[15237 15236 15102 15216 15227 15106 15210 15220 15025 15108 15024 15110\n",
      " 15137 15037 15238 15146 15101 15065 15216 15132 15136 15108 15228 15090\n",
      " 15229 15202 15235 15214 15044 15206 15217 15239 15056 15139 15209 15133\n",
      " 15057 15129 15144 15120 15136 15025 15241 15126 15122 15221 15221]\n",
      "[15057 15206 15214 15229 15228 15108 15101 15146 15037 15024 15108 15106\n",
      " 15236 15237 15007 15014 15015 15018 15025 15034 15030 15035 15046 15049\n",
      " 15064 15065 15082 15110 15112 15129 15131 15132 15133 15135 15137 15144\n",
      " 15148 15203 15211 15213 15224 15225 15232 15239 15275 15006 15051 15223\n",
      " 15227 16229 15282 15083 15088 15116 15122 15204 15216 15102 15234 15120\n",
      " 15017 15215 15139 15028 15145 15104 15086 15142 15241 15226 15207 15075\n",
      " 15076 15209 15243 15136 16046 15056 15045 15090 15084 15147 15235 15238\n",
      " 15220 15217 15233 15143 15210 15289 15044 15126 15047 15032 15221 15205\n",
      " 15202]\n"
     ]
    }
   ],
   "source": [
    "zipcodes_path = 'pittsburgh-allegheny-county.csv'\n",
    "data = np.genfromtxt(zipcodes_path, dtype=str, delimiter=',', encoding='utf-8-sig')\n",
    "# neighborhoods = data.astype(np.int)\n",
    "neighborhoods = all_n.astype(np.int)\n",
    "\n",
    "POD_sites_path = 'POD Sites.xlsx'\n",
    "POD_df = pd.read_excel(POD_sites_path)\n",
    "POD_df = POD_df[['SCHOOL/FACILITY NAME', 'STRIP MAP']]\n",
    "POD_df['ZIPCODE'] = POD_df['STRIP MAP'].apply(lambda x: str(x)[-5:])\n",
    "POD_df = POD_df[:47]\n",
    "POD_df\n",
    "\n",
    "POD_zips = np.array(pd.to_numeric(POD_df.ZIPCODE).values)\n",
    "print(POD_zips)\n",
    "print(neighborhoods)"
   ]
  },
  {
   "cell_type": "code",
   "execution_count": 5,
   "metadata": {},
   "outputs": [],
   "source": [
    "num_neighborhoods = len(neighborhoods)\n",
    "num_sites = len(POD_zips)\n",
    "\n",
    "\n",
    "random.seed(20)\n",
    "\n",
    "zipcodes_df = pd.read_csv('Zipcode.csv')\n",
    "# zipcodes_df = zipcodes_df.loc[zipcodes_df['type'].isin(['STANDARD', 'UNIQUE'])]\n",
    "zipcodes_df = zipcodes_df.loc[(zipcodes_df['population'] > 0)]\n",
    "zipcodes_df_filtered = zipcodes_df[['ZIP', 'NAME', 'LAT', 'LON', 'population']]\n",
    "\n",
    "\n",
    "from math import sin, cos, sqrt, atan2, radians\n",
    "\n",
    "def calcDistBetweenTwoPoints(pt1, pt2):\n",
    "    # approximate radius of earth in km\n",
    "    R = 6373.0\n",
    "    lat1 = radians(pt1[0])\n",
    "    lon1 = radians(pt1[1])\n",
    "    lat2 = radians(pt2[0])\n",
    "    lon2 = radians(pt2[1])\n",
    "    dlon = lon2 - lon1\n",
    "    dlat = lat2 - lat1\n",
    "    a = sin(dlat / 2)**2 + cos(lat1) * cos(lat2) * sin(dlon / 2)**2\n",
    "    c = 2 * atan2(sqrt(a), sqrt(1 - a))\n",
    "    distance = R * c\n",
    "    return(distance)\n",
    "    \n",
    "def getLatLongFromZip_graph(zipcode, df):\n",
    "    lat = df.loc[df['ZIP'] == zipcode]['LAT'].values[0]\n",
    "    long = df.loc[df['ZIP'] == zipcode]['LON'].values[0]\n",
    "    return((lat, long))\n",
    "\n",
    "def getLatLongFromZip(zipcode, df):\n",
    "    lat = df.loc[df['ZIP'] == zipcode]['LAT'].values[0]\n",
    "    long = df.loc[df['ZIP'] == zipcode]['LON'].values[0]\n",
    "    return((lat, long))\n",
    "    \n",
    "problematic_n = []\n",
    "problematic_s = []\n",
    "distances = []\n",
    "# nomi.query_postal_code()['latitude']\n",
    "for i in range(num_neighborhoods):\n",
    "    temp = []\n",
    "    for j in range(num_sites):\n",
    "        try:\n",
    "#             print(POD_zips[j])\n",
    "            pt1 = getLatLongFromZip(neighborhoods[i], zips_df)\n",
    "#             pt1 = (nomi.query_postal_code(str(neighborhoods[i]))['latitude'], nomi.query_postal_code(str(neighborhoods[i]))['longitude'])\n",
    "#             print(pt1)\n",
    "            pt2 = getLatLongFromZip(POD_zips[j], zips_df)\n",
    "#             pt2 = (nomi.query_postal_code(str(POD_zips[j]))['latitude'], nomi.query_postal_code(str(POD_zips[j]))['longitude'])\n",
    "            dist = calcDistBetweenTwoPoints(pt1, pt2)\n",
    "            temp.append(dist)\n",
    "        except:\n",
    "            problematic_n.append(neighborhoods[i])\n",
    "            problematic_s.append(POD_zips[j])\n",
    "#             print(neighborhoods[i], POD_zips[j])\n",
    "            print('-'*50)\n",
    "            temp.append(1000000)\n",
    "    distances.append(temp)\n",
    "distances = np.array(distances)\n",
    "# distances = np.delete(distances, (12), axis=0)"
   ]
  },
  {
   "cell_type": "code",
   "execution_count": 6,
   "metadata": {},
   "outputs": [
    {
     "data": {
      "text/plain": [
       "Text(0.5, 1.0, 'Neighborhoods (blue) vs possible POD sites (red)')"
      ]
     },
     "execution_count": 6,
     "metadata": {},
     "output_type": "execute_result"
    },
    {
     "data": {
      "image/png": "[encoded data removed]",
      "text/plain": [
       "<Figure size 432x288 with 1 Axes>"
      ]
     },
     "metadata": {
      "needs_background": "light"
     },
     "output_type": "display_data"
    }
   ],
   "source": [
    "POD_lats = []\n",
    "POD_longs = []\n",
    "\n",
    "for z in POD_zips:\n",
    "    lat, long = getLatLongFromZip_graph(z, zips_df)\n",
    "    POD_lats.append(lat)\n",
    "    POD_longs.append(long)\n",
    "    \n",
    "neighborhood_lats = []\n",
    "neighborhood_longs = []\n",
    "\n",
    "for z in neighborhoods:\n",
    "    lat, long = getLatLongFromZip_graph(z, zips_df)\n",
    "    neighborhood_lats.append(lat)\n",
    "    neighborhood_longs.append(long)\n",
    "\n",
    "    \n",
    "plt.scatter(neighborhood_longs, neighborhood_lats, marker='o', c = 'blue')\n",
    "plt.scatter(POD_longs, POD_lats, marker='x', c = 'red')\n",
    "plt.xlabel('Longitude')\n",
    "plt.ylabel('Latitude')\n",
    "plt.title('Neighborhoods (blue) vs possible POD sites (red)')\n",
    "\n",
    "\n"
   ]
  },
  {
   "cell_type": "code",
   "execution_count": 7,
   "metadata": {},
   "outputs": [
    {
     "name": "stdout",
     "output_type": "stream",
     "text": [
      "[ 6738 22090 12010 13410 17180 37850 24110 25680  9730  7970 37850 16810\n",
      " 29410 42230   360  2650  1290   750 15150  1350   850  1770  2360   860\n",
      "   310  9890   386  3950  2650 10260  7280 14700  5460  4510  8540  3580\n",
      "  1860  6410  8560  7230  7630   870  6760 20120    13   359   360  6180\n",
      " 26790  4790    16   900   631 13950 17260  6820 19990 28950 12670 15350\n",
      " 14880 11150  6080   170  5720  6020   560  1860 22040 11930  8780   207\n",
      "   810 10970 13340 20030 18170   950  3500 23900  8360 13980 30560 12850\n",
      " 16460 21290  2120 21220 20140   123 29140  6730   378   244 23860 20320\n",
      " 17220]\n"
     ]
    }
   ],
   "source": [
    "population = []\n",
    "for i in range(num_neighborhoods):\n",
    "    try:\n",
    "        population.append(zipcodes_df_filtered.loc[zipcodes_df_filtered['ZIP'] == neighborhoods[i]]['population'].values[0])\n",
    "    except:\n",
    "        pass\n",
    "\n",
    "population = np.array(population)\n",
    "pop_mean = np.mean(population)\n",
    "\n",
    "#for i in range(len(population)):\n",
    "#    if(population[i] == 0):\n",
    "#        population[i] = pop_mean\n",
    "print(population)"
   ]
  },
  {
   "cell_type": "code",
   "execution_count": 8,
   "metadata": {},
   "outputs": [
    {
     "data": {
      "text/plain": [
       "(97,)"
      ]
     },
     "execution_count": 8,
     "metadata": {},
     "output_type": "execute_result"
    }
   ],
   "source": [
    "population.shape"
   ]
  },
  {
   "cell_type": "markdown",
   "metadata": {},
   "source": [
    "## Find the minimum cost to vaccinate the entire population"
   ]
  },
  {
   "cell_type": "code",
   "execution_count": 67,
   "metadata": {},
   "outputs": [],
   "source": [
    "# MODEL INITIALIZATION\n",
    "m1 = Model()\n",
    "sizes = range(3)\n",
    "zipcodes = range(distances.shape[0])\n",
    "sites = range(distances.shape[1])\n",
    "days = range(25)\n",
    "\n",
    "# CONSTANTS\n",
    "D = distances\n",
    "p = population\n",
    "total_pop = population.sum()\n",
    "e = np.array([72, 85, 100])\n",
    "o = 20000\n",
    "v = 50\n",
    "f = 8000\n",
    "r = 206.76\n",
    "h = 12.5\n",
    "C = 1370"
   ]
  },
  {
   "cell_type": "code",
   "execution_count": 10,
   "metadata": {},
   "outputs": [
    {
     "data": {
      "text/plain": [
       "7.609525547445256"
      ]
     },
     "execution_count": 10,
     "metadata": {},
     "output_type": "execute_result"
    }
   ],
   "source": [
    "population.sum()/(1370*100)"
   ]
  },
  {
   "cell_type": "code",
   "execution_count": 11,
   "metadata": {},
   "outputs": [
    {
     "data": {
      "text/plain": [
       "835.05"
      ]
     },
     "execution_count": 11,
     "metadata": {},
     "output_type": "execute_result"
    }
   ],
   "source": [
    "(population.sum() - (1370*100*7))/100"
   ]
  },
  {
   "cell_type": "code",
   "execution_count": 12,
   "metadata": {},
   "outputs": [
    {
     "data": {
      "text/plain": [
       "[905505, 768505, 631505, 494505, 357505, 220505, 83505]"
      ]
     },
     "execution_count": 12,
     "metadata": {},
     "output_type": "execute_result"
    }
   ],
   "source": [
    "[population.sum() - 100*i*1370 for i in [1, 2, 3, 4, 5, 6, 7]]"
   ]
  },
  {
   "cell_type": "code",
   "execution_count": 13,
   "metadata": {},
   "outputs": [
    {
     "data": {
      "text/plain": [
       "97633920.838"
      ]
     },
     "execution_count": 13,
     "metadata": {},
     "output_type": "execute_result"
    }
   ],
   "source": [
    "o+v*total_pop+r*(7*1370+835.05)+h*sum(total_pop - 100*i*1370 for i in [1, 2, 3, 4, 5, 6, 7]) + f*8"
   ]
  },
  {
   "cell_type": "markdown",
   "metadata": {},
   "source": [
    "The minimum total cost is $97,633,920.83, found by only utilizing one site."
   ]
  },
  {
   "cell_type": "markdown",
   "metadata": {},
   "source": [
    "## Minimize distance while keeping cost at a minimum"
   ]
  },
  {
   "cell_type": "code",
   "execution_count": 14,
   "metadata": {},
   "outputs": [
    {
     "name": "stdout",
     "output_type": "stream",
     "text": [
      "30\n",
      "14255248.298092108\n"
     ]
    }
   ],
   "source": [
    "print(np.argmin(distances.T@population[ : , np.newaxis]))\n",
    "print(np.min(distances.T@population[ : , np.newaxis]))"
   ]
  },
  {
   "cell_type": "markdown",
   "metadata": {},
   "source": [
    "Minimum total distance given minimum cost (achieved by only using one site): 14,255,248.29"
   ]
  },
  {
   "cell_type": "code",
   "execution_count": 15,
   "metadata": {},
   "outputs": [
    {
     "data": {
      "text/plain": [
       "13.6740335040044"
      ]
     },
     "execution_count": 15,
     "metadata": {},
     "output_type": "execute_result"
    }
   ],
   "source": [
    "14255248.298092108 / population.sum()"
   ]
  },
  {
   "cell_type": "markdown",
   "metadata": {},
   "source": [
    "Average total distance in this scenario: 13.67"
   ]
  },
  {
   "cell_type": "code",
   "execution_count": 16,
   "metadata": {},
   "outputs": [
    {
     "data": {
      "text/plain": [
       "33.3645020058423"
      ]
     },
     "execution_count": 16,
     "metadata": {},
     "output_type": "execute_result"
    }
   ],
   "source": [
    "max(distances[:,30])"
   ]
  },
  {
   "cell_type": "markdown",
   "metadata": {},
   "source": [
    "Max distance in this scenario is 33.36"
   ]
  },
  {
   "cell_type": "markdown",
   "metadata": {},
   "source": [
    "## Minimize Distance without respect to Cost"
   ]
  },
  {
   "cell_type": "code",
   "execution_count": 68,
   "metadata": {},
   "outputs": [],
   "source": [
    "# DECISION VARIABLES\n",
    "A = m1.addVars(zipcodes, sites, vtype = GRB.BINARY)\n",
    "S = m1.addVars(sites, vtype = GRB.BINARY)\n",
    "M = m1.addVars(sites, vtype = GRB.BINARY)\n",
    "L = m1.addVars(sites, vtype = GRB.BINARY)\n",
    "U = m1.addVars(sites, days, vtype = GRB.BINARY)\n",
    "X = m1.addVars(sites, days)#, vtype = GRB.INTEGER)\n",
    "I = m1.addVars(sites, days)#, vtype = GRB.INTEGER)\n",
    "\n",
    "# OBJECTIVE\n",
    "m1.setObjective(sum(p[i]*D[i,j]*A[i,j] for i in zipcodes for j in sites))\n",
    "m1.modelSense = GRB.MINIMIZE\n",
    "\n",
    "# CONSTRAINTS\n",
    "for i in zipcodes:\n",
    "    m1.addConstr(sum(A[i,j] for j in sites) == 1)\n",
    "    \n",
    "    for j in sites:\n",
    "        m1.addConstr(A[i,j] <= S[j] + M[j] + L[j])\n",
    "        m1.addConstr(A[i,j] >= 0)\n",
    "        \n",
    "for j in sites:\n",
    "    assigned_pop = sum(A[i,j] * p[i] for i in zipcodes)\n",
    "    m1.addConstr(S[j] + M[j] + L[j] <= 1)\n",
    "    m1.addConstr(sum(e[0]*X[j,t] for t in days) >= assigned_pop - (1-S[j])*total_pop)\n",
    "    m1.addConstr(sum(e[1]*X[j,t] for t in days) >= assigned_pop - (1-M[j])*total_pop)\n",
    "    m1.addConstr(sum(e[2]*X[j,t] for t in days) >= assigned_pop)\n",
    "    m1.addConstr(S[j] >= 0)\n",
    "    m1.addConstr(M[j] >= 0)\n",
    "    m1.addConstr(L[j] >= 0)\n",
    "    \n",
    "    administered = [0,0,0]\n",
    "    for t in days:\n",
    "        administered[0] += e[0]*X[j,t]\n",
    "        administered[1] += e[1]*X[j,t]\n",
    "        administered[2] += e[2]*X[j,t]\n",
    "        m1.addConstr(X[j,t] >= 10*M[j] + 20*L[j] - 20*(1-U[j,t]))\n",
    "        m1.addConstr(X[j,t] <= 10*S[j] + 20*M[j] + C*L[j]) #The third term is redundant\n",
    "        m1.addConstr(X[j,t] <= C*U[j,t])\n",
    "        m1.addConstr(U[j,t] <= S[j] + M[j] + L[j])\n",
    "        m1.addConstr(I[j,t] + (1-S[j])*total_pop >= assigned_pop - administered[0])\n",
    "        m1.addConstr(I[j,t] + (1-M[j])*total_pop >= assigned_pop - administered[1])\n",
    "        m1.addConstr(I[j,t] + (1-L[j])*total_pop >= assigned_pop - administered[2])\n",
    "        m1.addConstr(I[j,t] - (1-S[j])*total_pop <= assigned_pop - administered[0])\n",
    "        m1.addConstr(I[j,t] - (1-M[j])*total_pop <= assigned_pop - administered[1])\n",
    "        m1.addConstr(I[j,t] - (1-L[j])*total_pop <= assigned_pop - administered[2])\n",
    "        m1.addConstr(X[j,t] >= 0)\n",
    "        m1.addConstr(I[j,t] >= 0)\n",
    "        m1.addConstr(U[j,t] >= 0)   \n",
    "        \n",
    "for t in days:\n",
    "    m1.addConstr(sum(X[j,t] for j in sites) <= C)\n"
   ]
  },
  {
   "cell_type": "code",
   "execution_count": 69,
   "metadata": {},
   "outputs": [
    {
     "name": "stdout",
     "output_type": "stream",
     "text": [
      "Changed value of parameter TimeLimit to 180.0\n",
      "   Prev: inf  Min: 0.0  Max: inf  Default: inf\n",
      "Gurobi Optimizer version 9.1.2 build v9.1.2rc0 (win64)\n",
      "Thread count: 6 physical cores, 12 logical processors, using up to 12 threads\n",
      "Optimize a model with 24844 rows, 8225 columns and 855682 nonzeros\n",
      "Model fingerprint: 0xd70ebc30\n",
      "Variable types: 2350 continuous, 5875 integer (5875 binary)\n",
      "Coefficient statistics:\n",
      "  Matrix range     [1e+00, 1e+06]\n",
      "  Objective range  [5e+01, 2e+06]\n",
      "  Bounds range     [1e+00, 1e+00]\n",
      "  RHS range        [1e+00, 1e+06]\n",
      "Presolve added 0 rows and 705 columns\n",
      "Presolve removed 7564 rows and 0 columns\n",
      "Presolve time: 1.78s\n",
      "Presolved: 17280 rows, 8930 columns, 781158 nonzeros\n",
      "Variable types: 3055 continuous, 5875 integer (5875 binary)\n",
      "Found heuristic solution: objective 1.917617e+07\n",
      "Found heuristic solution: objective 1.482196e+07\n",
      "\n",
      "Root relaxation: objective 1.080261e+06, 2699 iterations, 0.14 seconds\n",
      "\n",
      "    Nodes    |    Current Node    |     Objective Bounds      |     Work\n",
      " Expl Unexpl |  Obj  Depth IntInf | Incumbent    BestBd   Gap | It/Node Time\n",
      "\n",
      "     0     0 1080260.98    0    1 1.4822e+07 1080260.98  92.7%     -    2s\n",
      "H    0     0                    1080260.9753 1080260.98  0.00%     -    2s\n",
      "     0     0 1080260.98    0    1 1080260.98 1080260.98  0.00%     -    2s\n",
      "\n",
      "Explored 1 nodes (8095 simplex iterations) in 3.09 seconds\n",
      "Thread count was 12 (of 12 available processors)\n",
      "\n",
      "Solution count 3: 1.08026e+06 1.4822e+07 1.91762e+07 \n",
      "\n",
      "Optimal solution found (tolerance 1.00e-04)\n",
      "Best objective 1.080260975262e+06, best bound 1.080260975262e+06, gap 0.0000%\n"
     ]
    }
   ],
   "source": [
    "m1.Params.TimeLimit = 3*60\n",
    "m1.optimize()"
   ]
  },
  {
   "cell_type": "code",
   "execution_count": 70,
   "metadata": {},
   "outputs": [
    {
     "data": {
      "text/plain": [
       "1080260.9752623043"
      ]
     },
     "execution_count": 70,
     "metadata": {},
     "output_type": "execute_result"
    }
   ],
   "source": [
    "m1.objval"
   ]
  },
  {
   "cell_type": "code",
   "execution_count": 71,
   "metadata": {},
   "outputs": [
    {
     "data": {
      "text/plain": [
       "1.0362165891408714"
      ]
     },
     "execution_count": 71,
     "metadata": {},
     "output_type": "execute_result"
    }
   ],
   "source": [
    "m1.objval / sum(population)"
   ]
  },
  {
   "cell_type": "markdown",
   "metadata": {},
   "source": [
    "Minimum total distance traveled is 1,080,261"
   ]
  },
  {
   "cell_type": "markdown",
   "metadata": {},
   "source": [
    "Minimum average distance traveled is 1.04"
   ]
  },
  {
   "cell_type": "code",
   "execution_count": 72,
   "metadata": {},
   "outputs": [
    {
     "data": {
      "text/plain": [
       "14.657912157781494"
      ]
     },
     "execution_count": 72,
     "metadata": {},
     "output_type": "execute_result"
    }
   ],
   "source": [
    "max([A[i,j].x*D[i,j] for i in zipcodes for j in sites])"
   ]
  },
  {
   "cell_type": "markdown",
   "metadata": {},
   "source": [
    "The maximum distance traveled is 14.66"
   ]
  },
  {
   "cell_type": "code",
   "execution_count": 73,
   "metadata": {},
   "outputs": [
    {
     "data": {
      "text/plain": [
       "183625206.11159855"
      ]
     },
     "execution_count": 73,
     "metadata": {},
     "output_type": "execute_result"
    }
   ],
   "source": [
    "o*sum((S[j].x + M[j].x + L[j].x) for j in sites) + v*sum(A[i,j].x*p[i] for i in zipcodes for j in sites) + sum(r*X[j,t].x + h*I[j,t].x + f*U[j,t].x for j in sites for t in days)"
   ]
  },
  {
   "cell_type": "markdown",
   "metadata": {},
   "source": [
    "The cost is $183,625,206.11"
   ]
  },
  {
   "cell_type": "code",
   "execution_count": 74,
   "metadata": {},
   "outputs": [
    {
     "name": "stdout",
     "output_type": "stream",
     "text": [
      "45\n"
     ]
    }
   ],
   "source": [
    "num_sites = 0\n",
    "for j in sites:\n",
    "    if (S[j].x + M[j].x + L[j].x) > 0:\n",
    "        num_sites += 1\n",
    "print(num_sites)"
   ]
  },
  {
   "cell_type": "markdown",
   "metadata": {},
   "source": [
    "## Minimizing Cost while holding total distance at minimum"
   ]
  },
  {
   "cell_type": "code",
   "execution_count": 128,
   "metadata": {
    "scrolled": true
   },
   "outputs": [
    {
     "name": "stdout",
     "output_type": "stream",
     "text": [
      "Changed value of parameter TimeLimit to 480.0\n",
      "   Prev: 120.0  Min: 0.0  Max: inf  Default: inf\n",
      "Gurobi Optimizer version 9.1.2 build v9.1.2rc0 (win64)\n",
      "Thread count: 6 physical cores, 12 logical processors, using up to 12 threads\n",
      "Optimize a model with 24846 rows, 8225 columns and 864682 nonzeros\n",
      "Model fingerprint: 0xdcbc81c7\n",
      "Variable types: 2350 continuous, 5875 integer (5875 binary)\n",
      "Coefficient statistics:\n",
      "  Matrix range     [1e+00, 2e+06]\n",
      "  Objective range  [1e+01, 2e+06]\n",
      "  Bounds range     [1e+00, 1e+00]\n",
      "  RHS range        [1e+00, 1e+06]\n",
      "\n",
      "MIP start from previous solve produced solution with objective 9.86825e+07 (0.16s)\n",
      "Loaded MIP start from previous solve with objective 9.86825e+07\n",
      "\n",
      "Presolve added 0 rows and 614 columns\n",
      "Presolve removed 7652 rows and 0 columns\n",
      "Presolve time: 2.06s\n",
      "Presolved: 17194 rows, 8839 columns, 771682 nonzeros\n",
      "Variable types: 3055 continuous, 5784 integer (5784 binary)\n",
      "\n",
      "Root relaxation: objective 5.512161e+07, 8135 iterations, 1.31 seconds\n",
      "\n",
      "    Nodes    |    Current Node    |     Objective Bounds      |     Work\n",
      " Expl Unexpl |  Obj  Depth IntInf | Incumbent    BestBd   Gap | It/Node Time\n",
      "\n",
      "     0     0 5.5122e+07    0  206 9.8682e+07 5.5122e+07  44.1%     -    3s\n",
      "     0     0 5.5309e+07    0  259 9.8682e+07 5.5309e+07  44.0%     -    5s\n",
      "     0     0 5.5309e+07    0  146 9.8682e+07 5.5309e+07  44.0%     -    7s\n",
      "     0     0 6.2602e+07    0  261 9.8682e+07 6.2602e+07  36.6%     -    8s\n",
      "     0     0 6.4421e+07    0  254 9.8682e+07 6.4421e+07  34.7%     -    8s\n",
      "     0     0 6.4981e+07    0  256 9.8682e+07 6.4981e+07  34.2%     -    8s\n",
      "     0     0 6.5167e+07    0  255 9.8682e+07 6.5167e+07  34.0%     -    8s\n",
      "     0     0 6.5194e+07    0  255 9.8682e+07 6.5194e+07  33.9%     -    8s\n",
      "     0     0 6.5195e+07    0  255 9.8682e+07 6.5195e+07  33.9%     -    8s\n",
      "     0     0 6.9372e+07    0  232 9.8682e+07 6.9372e+07  29.7%     -    9s\n",
      "     0     0 7.0307e+07    0  222 9.8682e+07 7.0307e+07  28.8%     -    9s\n",
      "     0     0 7.0691e+07    0  254 9.8682e+07 7.0691e+07  28.4%     -    9s\n",
      "     0     0 7.0956e+07    0  253 9.8682e+07 7.0956e+07  28.1%     -    9s\n",
      "     0     0 7.1016e+07    0  265 9.8682e+07 7.1016e+07  28.0%     -    9s\n",
      "     0     0 7.1039e+07    0  267 9.8682e+07 7.1039e+07  28.0%     -    9s\n",
      "     0     0 7.1139e+07    0  257 9.8682e+07 7.1139e+07  27.9%     -    9s\n",
      "     0     0 7.1175e+07    0  263 9.8682e+07 7.1175e+07  27.9%     -    9s\n",
      "     0     0 7.1209e+07    0  259 9.8682e+07 7.1209e+07  27.8%     -    9s\n",
      "     0     0 7.1216e+07    0  261 9.8682e+07 7.1216e+07  27.8%     -    9s\n",
      "     0     0 7.1217e+07    0  263 9.8682e+07 7.1217e+07  27.8%     -    9s\n",
      "     0     0 7.2732e+07    0  245 9.8682e+07 7.2732e+07  26.3%     -   10s\n",
      "     0     0 7.3108e+07    0  263 9.8682e+07 7.3108e+07  25.9%     -   10s\n",
      "     0     0 7.3195e+07    0  276 9.8682e+07 7.3195e+07  25.8%     -   10s\n",
      "     0     0 7.3205e+07    0  279 9.8682e+07 7.3205e+07  25.8%     -   10s\n",
      "     0     0 7.3207e+07    0  275 9.8682e+07 7.3207e+07  25.8%     -   10s\n",
      "     0     0 7.3863e+07    0  255 9.8682e+07 7.3863e+07  25.2%     -   11s\n",
      "     0     0 7.4091e+07    0  264 9.8682e+07 7.4091e+07  24.9%     -   11s\n",
      "     0     0 7.4111e+07    0  275 9.8682e+07 7.4111e+07  24.9%     -   11s\n",
      "     0     0 7.4114e+07    0  266 9.8682e+07 7.4114e+07  24.9%     -   11s\n",
      "     0     0 7.4290e+07    0  269 9.8682e+07 7.4290e+07  24.7%     -   11s\n",
      "     0     0 7.4318e+07    0  268 9.8682e+07 7.4318e+07  24.7%     -   11s\n",
      "     0     0 7.4324e+07    0  275 9.8682e+07 7.4324e+07  24.7%     -   11s\n",
      "     0     0 7.4327e+07    0  279 9.8682e+07 7.4327e+07  24.7%     -   12s\n",
      "     0     0 7.4523e+07    0  260 9.8682e+07 7.4523e+07  24.5%     -   12s\n",
      "     0     0 7.4556e+07    0  266 9.8682e+07 7.4556e+07  24.4%     -   12s\n",
      "     0     0 7.4560e+07    0  278 9.8682e+07 7.4560e+07  24.4%     -   12s\n",
      "     0     0 7.4764e+07    0  244 9.8682e+07 7.4764e+07  24.2%     -   13s\n",
      "     0     0 7.4764e+07    0  260 9.8682e+07 7.4764e+07  24.2%     -   14s\n",
      "     0     0 7.5379e+07    0  264 9.8682e+07 7.5379e+07  23.6%     -   14s\n",
      "     0     0 7.6285e+07    0  232 9.8682e+07 7.6285e+07  22.7%     -   14s\n",
      "     0     0 7.6639e+07    0  225 9.8682e+07 7.6639e+07  22.3%     -   14s\n",
      "     0     0 7.6736e+07    0  237 9.8682e+07 7.6736e+07  22.2%     -   14s\n",
      "     0     0 7.6790e+07    0  230 9.8682e+07 7.6790e+07  22.2%     -   15s\n",
      "     0     0 7.6805e+07    0  222 9.8682e+07 7.6805e+07  22.2%     -   15s\n",
      "     0     0 7.6810e+07    0  227 9.8682e+07 7.6810e+07  22.2%     -   15s\n",
      "     0     0 7.6810e+07    0  231 9.8682e+07 7.6810e+07  22.2%     -   15s\n",
      "     0     0 7.7208e+07    0  251 9.8682e+07 7.7208e+07  21.8%     -   15s\n",
      "     0     0 7.7290e+07    0  246 9.8682e+07 7.7290e+07  21.7%     -   15s\n",
      "     0     0 7.7337e+07    0  251 9.8682e+07 7.7337e+07  21.6%     -   15s\n",
      "     0     0 7.7353e+07    0  249 9.8682e+07 7.7353e+07  21.6%     -   15s\n",
      "     0     0 7.7368e+07    0  252 9.8682e+07 7.7368e+07  21.6%     -   15s\n",
      "     0     0 7.7372e+07    0  255 9.8682e+07 7.7372e+07  21.6%     -   15s\n",
      "     0     0 7.7374e+07    0  258 9.8682e+07 7.7374e+07  21.6%     -   15s\n",
      "     0     0 7.8043e+07    0  251 9.8682e+07 7.8043e+07  20.9%     -   16s\n",
      "     0     0 7.8167e+07    0  249 9.8682e+07 7.8167e+07  20.8%     -   16s\n",
      "     0     0 7.8183e+07    0  249 9.8682e+07 7.8183e+07  20.8%     -   16s\n",
      "     0     0 7.8186e+07    0  249 9.8682e+07 7.8186e+07  20.8%     -   16s\n",
      "     0     0 7.8191e+07    0  253 9.8682e+07 7.8191e+07  20.8%     -   16s\n",
      "     0     0 7.8192e+07    0  245 9.8682e+07 7.8192e+07  20.8%     -   16s\n",
      "     0     0 7.8603e+07    0  248 9.8682e+07 7.8603e+07  20.3%     -   16s\n",
      "     0     0 7.8762e+07    0  253 9.8682e+07 7.8762e+07  20.2%     -   16s\n",
      "     0     0 7.8814e+07    0  249 9.8682e+07 7.8814e+07  20.1%     -   16s\n",
      "     0     0 7.8828e+07    0  245 9.8682e+07 7.8828e+07  20.1%     -   16s\n",
      "     0     0 7.8830e+07    0  249 9.8682e+07 7.8830e+07  20.1%     -   16s\n",
      "     0     0 7.9034e+07    0  231 9.8682e+07 7.9034e+07  19.9%     -   17s\n",
      "     0     0 7.9082e+07    0  227 9.8682e+07 7.9082e+07  19.9%     -   17s\n",
      "     0     0 7.9090e+07    0  248 9.8682e+07 7.9090e+07  19.9%     -   17s\n",
      "     0     0 7.9091e+07    0  250 9.8682e+07 7.9091e+07  19.9%     -   17s\n",
      "     0     0 7.9153e+07    0  255 9.8682e+07 7.9153e+07  19.8%     -   17s\n",
      "     0     0 7.9200e+07    0  247 9.8682e+07 7.9200e+07  19.7%     -   17s\n",
      "     0     0 7.9204e+07    0  252 9.8682e+07 7.9204e+07  19.7%     -   17s\n",
      "     0     0 7.9206e+07    0  256 9.8682e+07 7.9206e+07  19.7%     -   17s\n",
      "     0     0 7.9551e+07    0  254 9.8682e+07 7.9551e+07  19.4%     -   18s\n",
      "     0     0 7.9584e+07    0  257 9.8682e+07 7.9584e+07  19.4%     -   18s\n",
      "     0     0 7.9595e+07    0  260 9.8682e+07 7.9595e+07  19.3%     -   18s\n",
      "     0     0 7.9599e+07    0  264 9.8682e+07 7.9599e+07  19.3%     -   18s\n",
      "     0     0 7.9600e+07    0  264 9.8682e+07 7.9600e+07  19.3%     -   18s\n",
      "     0     0 7.9654e+07    0  262 9.8682e+07 7.9654e+07  19.3%     -   18s\n",
      "     0     0 7.9665e+07    0  265 9.8682e+07 7.9665e+07  19.3%     -   18s\n",
      "     0     0 7.9668e+07    0  274 9.8682e+07 7.9668e+07  19.3%     -   18s\n",
      "     0     0 7.9723e+07    0  291 9.8682e+07 7.9723e+07  19.2%     -   18s\n",
      "     0     0 7.9731e+07    0  306 9.8682e+07 7.9731e+07  19.2%     -   18s\n",
      "     0     0 7.9732e+07    0  306 9.8682e+07 7.9732e+07  19.2%     -   18s\n",
      "     0     0 7.9739e+07    0  282 9.8682e+07 7.9739e+07  19.2%     -   19s\n",
      "     0     0 7.9740e+07    0  270 9.8682e+07 7.9740e+07  19.2%     -   19s\n",
      "     0     0 8.0220e+07    0  281 9.8682e+07 8.0220e+07  18.7%     -   19s\n",
      "     0     0 8.0253e+07    0  286 9.8682e+07 8.0253e+07  18.7%     -   19s\n",
      "     0     0 8.0255e+07    0  287 9.8682e+07 8.0255e+07  18.7%     -   19s\n",
      "     0     0 8.0265e+07    0  295 9.8682e+07 8.0265e+07  18.7%     -   19s\n",
      "     0     0 8.0267e+07    0  293 9.8682e+07 8.0267e+07  18.7%     -   20s\n",
      "     0     0 8.0661e+07    0  275 9.8682e+07 8.0661e+07  18.3%     -   20s\n",
      "     0     0 8.0673e+07    0  266 9.8682e+07 8.0673e+07  18.3%     -   20s\n",
      "     0     0 8.0673e+07    0  268 9.8682e+07 8.0673e+07  18.2%     -   20s\n",
      "     0     0 8.0692e+07    0  268 9.8682e+07 8.0692e+07  18.2%     -   20s\n",
      "     0     0 8.0702e+07    0  274 9.8682e+07 8.0702e+07  18.2%     -   20s\n"
     ]
    },
    {
     "name": "stdout",
     "output_type": "stream",
     "text": [
      "     0     0 8.0704e+07    0  269 9.8682e+07 8.0704e+07  18.2%     -   20s\n",
      "     0     0 8.0748e+07    0  269 9.8682e+07 8.0748e+07  18.2%     -   21s\n",
      "     0     0 8.0760e+07    0  257 9.8682e+07 8.0760e+07  18.2%     -   21s\n",
      "     0     0 8.0761e+07    0  260 9.8682e+07 8.0761e+07  18.2%     -   21s\n",
      "     0     0 8.0766e+07    0  261 9.8682e+07 8.0766e+07  18.2%     -   21s\n",
      "     0     0 8.0768e+07    0  254 9.8682e+07 8.0768e+07  18.2%     -   21s\n",
      "     0     0 8.0812e+07    0  256 9.8682e+07 8.0812e+07  18.1%     -   21s\n",
      "     0     0 8.0924e+07    0  257 9.8682e+07 8.0924e+07  18.0%     -   22s\n",
      "     0     0 8.0930e+07    0  256 9.8682e+07 8.0930e+07  18.0%     -   22s\n",
      "     0     0 8.0937e+07    0  257 9.8682e+07 8.0937e+07  18.0%     -   22s\n",
      "     0     0 8.0941e+07    0  258 9.8682e+07 8.0941e+07  18.0%     -   22s\n",
      "     0     0 8.0949e+07    0  260 9.8682e+07 8.0949e+07  18.0%     -   22s\n",
      "     0     0 8.0950e+07    0  261 9.8682e+07 8.0950e+07  18.0%     -   22s\n",
      "     0     0 8.0961e+07    0  263 9.8682e+07 8.0961e+07  18.0%     -   22s\n",
      "     0     0 8.0963e+07    0  269 9.8682e+07 8.0963e+07  18.0%     -   22s\n",
      "     0     0 8.0964e+07    0  279 9.8682e+07 8.0964e+07  18.0%     -   22s\n",
      "     0     0 8.0965e+07    0  282 9.8682e+07 8.0965e+07  18.0%     -   22s\n",
      "     0     0 8.1030e+07    0  277 9.8682e+07 8.1030e+07  17.9%     -   23s\n",
      "     0     0 8.1031e+07    0  283 9.8682e+07 8.1031e+07  17.9%     -   23s\n",
      "     0     0 8.1032e+07    0  268 9.8682e+07 8.1032e+07  17.9%     -   23s\n",
      "     0     0 8.1032e+07    0  242 9.8682e+07 8.1032e+07  17.9%     -   24s\n",
      "     0     2 8.1337e+07    0  237 9.8682e+07 8.1337e+07  17.6%     -   24s\n",
      "    13    16 8.7306e+07    4  276 9.8682e+07 8.2234e+07  16.7%   294   25s\n",
      "H  148   149                    9.868195e+07 8.2234e+07  16.7%   127   26s\n",
      "  1015   894 9.7869e+07   15  254 9.8682e+07 8.4653e+07  14.2%  66.2   30s\n",
      "  1306  1068 9.2032e+07   15  257 9.8682e+07 8.5787e+07  13.1%  69.0   35s\n",
      "  1319  1080     cutoff   16      9.8682e+07 8.6170e+07  12.7%  75.9   40s\n",
      "  1971  1502 9.8636e+07   68   34 9.8682e+07 8.7419e+07  11.4%  66.8   46s\n",
      "  3260  2161 9.0614e+07   22  181 9.8682e+07 8.8590e+07  10.2%  51.2   50s\n",
      "  5548  3507 9.7307e+07   41  160 9.8682e+07 8.9839e+07  8.96%  46.3   55s\n",
      "  7550  4872 9.4885e+07   31  179 9.8682e+07 9.0333e+07  8.46%  44.3   60s\n",
      "  9851  6580     cutoff   49      9.8682e+07 9.0894e+07  7.89%  41.8   65s\n",
      " 11873  7768 9.3811e+07   25  172 9.8682e+07 9.1427e+07  7.35%  41.2   70s\n",
      " 13617  9140 9.4692e+07   32  161 9.8682e+07 9.1635e+07  7.14%  40.8   75s\n",
      " 16325 10898     cutoff   51      9.8682e+07 9.1982e+07  6.79%  40.2   80s\n",
      " 18657 12557 9.7912e+07   42  120 9.8682e+07 9.2322e+07  6.44%  40.2   85s\n",
      " 21583 14592 9.3702e+07   25  192 9.8682e+07 9.2450e+07  6.31%  40.0   91s\n",
      " 23491 15950 9.8434e+07   33  195 9.8682e+07 9.2478e+07  6.29%  39.8   95s\n",
      " 25408 16923 9.4528e+07   31  259 9.8682e+07 9.2542e+07  6.22%  39.5  127s\n",
      " 25423 16933 9.8147e+07   55  170 9.8682e+07 9.2542e+07  6.22%  39.5  130s\n",
      " 25449 16950 9.7995e+07   45  185 9.8682e+07 9.2542e+07  6.22%  39.5  135s\n",
      " 25473 16966 9.6979e+07   38  190 9.8682e+07 9.2783e+07  5.98%  39.4  140s\n",
      " 25494 16980 9.6738e+07   34  196 9.8682e+07 9.3254e+07  5.50%  39.4  145s\n",
      " 25515 16994 9.4361e+07   29  197 9.8682e+07 9.3563e+07  5.19%  39.3  150s\n",
      " 25536 17008 9.7602e+07   38  200 9.8682e+07 9.3738e+07  5.01%  39.3  155s\n",
      " 25559 17024 9.4867e+07   31  211 9.8682e+07 9.4044e+07  4.70%  39.3  160s\n",
      " 25582 17039 9.8201e+07   54  173 9.8682e+07 9.4122e+07  4.62%  39.2  165s\n",
      " 25597 17049 9.7542e+07   43  190 9.8682e+07 9.4196e+07  4.55%  39.2  170s\n",
      " 25616 17062 9.8200e+07   54  213 9.8682e+07 9.4234e+07  4.51%  39.2  175s\n",
      " 25637 17076 9.8670e+07  147  182 9.8682e+07 9.4328e+07  4.41%  39.2  181s\n",
      " 25654 17087 9.7952e+07   42  180 9.8682e+07 9.4398e+07  4.34%  39.1  185s\n",
      " 25681 17105 9.6876e+07   38  180 9.8682e+07 9.4523e+07  4.21%  39.1  190s\n",
      " 25703 17120 9.4627e+07   27  170 9.8682e+07 9.4627e+07  4.11%  39.1  195s\n",
      " 25722 17132 9.6732e+07   33  186 9.8682e+07 9.4642e+07  4.09%  39.0  200s\n",
      " 25738 17143 9.6916e+07   37  186 9.8682e+07 9.4675e+07  4.06%  39.0  205s\n",
      " 25747 17149 9.7711e+07   41  176 9.8682e+07 9.4677e+07  4.06%  39.0  210s\n",
      " 25760 17158 9.8663e+07  179  181 9.8682e+07 9.4683e+07  4.05%  39.0  215s\n",
      " 25785 17174 9.8662e+07  129  172 9.8682e+07 9.4774e+07  3.96%  38.9  220s\n",
      " 25800 17184 9.6644e+07   41  175 9.8682e+07 9.4788e+07  3.95%  38.9  225s\n",
      " 25812 17192 9.8620e+07   52  183 9.8682e+07 9.4793e+07  3.94%  38.9  231s\n",
      " 25822 17199 9.6732e+07   33  184 9.8682e+07 9.4795e+07  3.94%  38.9  235s\n",
      " 25831 17205 9.6443e+07   36  175 9.8682e+07 9.4798e+07  3.94%  38.9  240s\n",
      " 25843 17213 9.4952e+07   30  193 9.8682e+07 9.4807e+07  3.93%  38.9  245s\n",
      " 25860 17224 9.8663e+07  179  187 9.8682e+07 9.4808e+07  3.93%  38.8  250s\n",
      " 25874 17234 9.5322e+07   30  181 9.8682e+07 9.4877e+07  3.86%  38.8  255s\n",
      "H25876 16366                    9.868023e+07 9.4877e+07  3.85%  40.8  258s\n",
      " 25877 16369 9.4890e+07   25  223 9.8680e+07 9.4890e+07  3.84%  40.8  260s\n",
      " 25940 16414 9.7144e+07   32  159 9.8680e+07 9.5938e+07  2.78%  41.2  265s\n",
      " 26703 16801 9.7856e+07   49  110 9.8680e+07 9.5959e+07  2.76%  42.1  270s\n",
      " 28268 17448 9.7635e+07   33  155 9.8680e+07 9.6203e+07  2.51%  42.9  275s\n",
      " 30052 18352 9.7220e+07   32  182 9.8680e+07 9.6616e+07  2.09%  44.2  280s\n",
      " 30991 18651 9.8560e+07   62   47 9.8680e+07 9.6873e+07  1.83%  45.2  285s\n",
      " 32421 19437 9.7510e+07   34  163 9.8680e+07 9.6873e+07  1.83%  44.7  295s\n",
      " 33994 20341 9.8675e+07  210    8 9.8680e+07 9.7159e+07  1.54%  45.5  300s\n",
      " 35894 20892 9.8317e+07   56   77 9.8680e+07 9.7184e+07  1.52%  47.5  306s\n",
      " 36942 21308 9.7471e+07   33  187 9.8680e+07 9.7188e+07  1.51%  48.9  310s\n",
      " 38369 22078 9.7657e+07   36  186 9.8680e+07 9.7201e+07  1.50%  50.2  315s\n",
      " 39788 22579 9.7825e+07   36  191 9.8680e+07 9.7218e+07  1.48%  52.1  321s\n",
      " 41201 22818 9.8467e+07   44  122 9.8680e+07 9.7233e+07  1.47%  53.5  325s\n",
      " 43021 23792 9.8055e+07   45  122 9.8680e+07 9.7269e+07  1.43%  55.2  332s\n",
      " 44545 24266 9.8662e+07   59   84 9.8680e+07 9.7283e+07  1.42%  56.0  336s\n",
      " 45932 24662 9.7984e+07   41  140 9.8680e+07 9.7292e+07  1.41%  56.9  340s\n",
      " 47927 25212 9.8637e+07   64   60 9.8680e+07 9.7324e+07  1.37%  58.1  346s\n",
      " 49011 25717 9.7764e+07   37  194 9.8680e+07 9.7364e+07  1.33%  59.0  350s\n",
      " 51001 26437 9.7944e+07   41  142 9.8680e+07 9.7400e+07  1.30%  59.8  357s\n",
      " 52425 26701 9.8363e+07   59   80 9.8680e+07 9.7420e+07  1.28%  60.2  361s\n",
      " 53530 26874 9.8518e+07   49  115 9.8680e+07 9.7446e+07  1.25%  60.9  365s\n",
      " 55201 27134 9.8279e+07   38  200 9.8680e+07 9.7471e+07  1.23%  62.4  371s\n",
      " 56216 27079 9.8589e+07   36  195 9.8680e+07 9.7482e+07  1.21%  63.2  378s\n",
      " 56236 27133 9.8663e+07   37  181 9.8680e+07 9.7482e+07  1.21%  63.2  380s\n",
      " 57199 27611 9.7916e+07   40  168 9.8680e+07 9.7501e+07  1.20%  64.1  386s\n",
      " 58594 28283 9.8642e+07   60   54 9.8680e+07 9.7529e+07  1.17%  64.6  391s\n",
      " 60204 28617 9.8094e+07   43  165 9.8680e+07 9.7550e+07  1.15%  64.7  395s\n",
      " 61894 28704 9.8148e+07   41  160 9.8680e+07 9.7590e+07  1.10%  66.0  402s\n",
      " 63000 29244 9.8241e+07   39  175 9.8680e+07 9.7601e+07  1.09%  66.4  407s\n",
      " 63763 29436 9.8638e+07   47  111 9.8680e+07 9.7613e+07  1.08%  66.5  410s\n",
      " 65840 29968     cutoff   52      9.8680e+07 9.7636e+07  1.06%  67.1  416s\n",
      " 67145 30326 9.7967e+07   38  182 9.8680e+07 9.7648e+07  1.05%  67.3  421s\n",
      " 68520 30572     cutoff   40      9.8680e+07 9.7657e+07  1.04%  67.4  425s\n",
      " 70495 31190 9.8234e+07   53   83 9.8680e+07 9.7670e+07  1.02%  67.7  431s\n",
      " 71864 31566 9.8125e+07   38  183 9.8680e+07 9.7679e+07  1.01%  67.7  435s\n",
      " 73804 32137 9.8135e+07   40  164 9.8680e+07 9.7696e+07  1.00%  68.0  441s\n",
      " 75032 32505 9.8322e+07   42  158 9.8680e+07 9.7707e+07  0.99%  68.4  445s\n",
      " 77241 33852 9.7968e+07   47  137 9.8680e+07 9.7725e+07  0.97%  68.6  451s\n",
      " 78449 34569 9.8337e+07   45  113 9.8680e+07 9.7732e+07  0.96%  68.9  455s\n",
      " 80459 35762 9.8299e+07   40  162 9.8680e+07 9.7749e+07  0.94%  69.0  461s\n",
      " 81742 36520 9.8081e+07   43  188 9.8680e+07 9.7759e+07  0.93%  69.2  465s\n",
      " 83160 37751 9.8466e+07   45  146 9.8680e+07 9.7764e+07  0.93%  69.4  470s\n",
      " 85514 38939 9.8668e+07   66   51 9.8680e+07 9.7770e+07  0.92%  69.0  476s\n",
      " 86738 39552 9.8375e+07   56   94 9.8680e+07 9.7778e+07  0.91%  69.2  480s\n"
     ]
    },
    {
     "name": "stdout",
     "output_type": "stream",
     "text": [
      "\n",
      "Cutting planes:\n",
      "  Gomory: 23\n",
      "  Cover: 15\n",
      "  Implied bound: 283\n",
      "  Projected implied bound: 161\n",
      "  MIR: 533\n",
      "  Flow cover: 1254\n",
      "  GUB cover: 5\n",
      "  Inf proof: 1\n",
      "  Zero half: 1\n",
      "  RLT: 299\n",
      "  Relax-and-lift: 15\n",
      "\n",
      "Explored 87179 nodes (6082375 simplex iterations) in 480.16 seconds\n",
      "Thread count was 12 (of 12 available processors)\n",
      "\n",
      "Solution count 3: 9.86802e+07 9.8682e+07 9.86825e+07 \n",
      "\n",
      "Time limit reached\n",
      "Best objective 9.868022996506e+07, best bound 9.777990678788e+07, gap 0.9124%\n"
     ]
    }
   ],
   "source": [
    "m1.setObjective(o*sum((S[j] + M[j] + L[j]) for j in sites)\n",
    "            + v*sum(A[i,j]*p[i] for i in zipcodes for j in sites)\n",
    "            + sum(r*X[j,t] + h*I[j,t] + f*U[j,t] for j in sites for t in days))\n",
    "m1.addConstr(sum(p[i]*D[i,j]*A[i,j] for i in zipcodes for j in sites) <= 1080260.9752623045)\n",
    "m1.Params.TimeLimit = 8*60\n",
    "m1.optimize()"
   ]
  },
  {
   "cell_type": "code",
   "execution_count": 129,
   "metadata": {},
   "outputs": [
    {
     "data": {
      "text/plain": [
       "98680229.96505867"
      ]
     },
     "execution_count": 129,
     "metadata": {},
     "output_type": "execute_result"
    }
   ],
   "source": [
    "m1.objval"
   ]
  },
  {
   "cell_type": "markdown",
   "metadata": {},
   "source": [
    "The minimum total distance is found using a budget of $98,677,054.97"
   ]
  },
  {
   "cell_type": "code",
   "execution_count": 130,
   "metadata": {},
   "outputs": [
    {
     "data": {
      "text/plain": [
       "14.657912157781494"
      ]
     },
     "execution_count": 130,
     "metadata": {},
     "output_type": "execute_result"
    }
   ],
   "source": [
    "max([A[i,j].x*D[i,j] for i in zipcodes for j in sites])"
   ]
  },
  {
   "cell_type": "markdown",
   "metadata": {},
   "source": [
    "The maximum distance in this strategy is 14.66"
   ]
  },
  {
   "cell_type": "code",
   "execution_count": 133,
   "metadata": {},
   "outputs": [
    {
     "name": "stdout",
     "output_type": "stream",
     "text": [
      "0\n"
     ]
    }
   ],
   "source": [
    "num_sites = 0\n",
    "for j in sites:\n",
    "    if (S[j].x) > 0:\n",
    "        num_sites += 1\n",
    "print(num_sites)"
   ]
  },
  {
   "cell_type": "code",
   "execution_count": 108,
   "metadata": {},
   "outputs": [
    {
     "name": "stdout",
     "output_type": "stream",
     "text": [
      "Site: 1 \t 1.0 \t 1.0\n",
      "Site: 2 \t 1.0 \t 1.0\n",
      "Site: 3 \t 1.0 \t 1.0\n",
      "Site: 4 \t 1.0 \t 1.0\n",
      "Site: 5 \t 1.0 \t 1.0\n",
      "Site: 6 \t 1.0 \t 1.0\n",
      "Site: 7 \t 1.0 \t 1.0\n",
      "Site: 8 \t 1.0 \t 1.0\n",
      "Site: 9 \t 1.0 \t 1.0\n",
      "Site: 10 \t 1.0 \t 1.0\n",
      "Site: 11 \t -0.0 \t -0.0\n",
      "Site: 12 \t 1.0 \t 1.0\n",
      "Site: 13 \t 1.0 \t 1.0\n",
      "Site: 14 \t -0.0 \t 0.0\n",
      "Site: 15 \t 1.0 \t 1.0\n",
      "Site: 16 \t 1.0 \t 1.0\n",
      "Site: 17 \t 1.0 \t 1.0\n",
      "Site: 18 \t 1.0 \t 1.0\n",
      "Site: 19 \t 0.0 \t 0.0\n",
      "Site: 20 \t 1.0 \t 1.0\n",
      "Site: 21 \t 1.0 \t 1.0\n",
      "Site: 22 \t -0.0 \t -0.0\n",
      "Site: 23 \t 1.0 \t 1.0\n",
      "Site: 24 \t 1.0 \t 1.0\n",
      "Site: 25 \t 1.0 \t 1.0\n",
      "Site: 26 \t 1.0 \t 1.0\n",
      "Site: 27 \t 1.0 \t 1.0\n",
      "Site: 28 \t 1.0 \t 1.0\n",
      "Site: 29 \t 1.0 \t 1.0\n",
      "Site: 30 \t 1.0 \t 1.0\n",
      "Site: 31 \t 1.0 \t 1.0\n",
      "Site: 32 \t 1.0 \t 1.0\n",
      "Site: 33 \t 0.0 \t 1.0\n",
      "Site: 34 \t 1.0 \t 1.0\n",
      "Site: 35 \t 1.0 \t 1.0\n",
      "Site: 36 \t 1.0 \t 1.0\n",
      "Site: 37 \t 1.0 \t 1.0\n",
      "Site: 38 \t 1.0 \t 1.0\n",
      "Site: 39 \t 1.0 \t 1.0\n",
      "Site: 40 \t 1.0 \t 1.0\n",
      "Site: 41 \t 0.0 \t 0.0\n",
      "Site: 42 \t -0.0 \t 0.0\n",
      "Site: 43 \t 1.0 \t 1.0\n",
      "Site: 44 \t -0.0 \t -0.0\n",
      "Site: 45 \t 1.0 \t 1.0\n",
      "Site: 46 \t 1.0 \t 1.0\n",
      "Site: 47 \t -0.0 \t -0.0\n"
     ]
    }
   ],
   "source": [
    "for j in sites:\n",
    "    print(\"Site:\", j+1, '\\t', L[j].x, '\\t', S[j].x + M[j].x + L[j].x)"
   ]
  },
  {
   "cell_type": "code",
   "execution_count": 109,
   "metadata": {},
   "outputs": [],
   "source": [
    "max_ts = []\n",
    "for j in sites:\n",
    "    max_t = 0\n",
    "    for t in days:\n",
    "        if np.allclose(I[j,t].x,0):\n",
    "            max_t = t + 1\n",
    "            max_ts.append(max_t)\n",
    "            break\n",
    "            "
   ]
  },
  {
   "cell_type": "code",
   "execution_count": 110,
   "metadata": {},
   "outputs": [
    {
     "data": {
      "image/png": "[encoded data removed]",
      "text/plain": [
       "<Figure size 432x288 with 1 Axes>"
      ]
     },
     "metadata": {
      "needs_background": "light"
     },
     "output_type": "display_data"
    }
   ],
   "source": [
    "plt.hist(max_ts)\n",
    "plt.title(\"The Distribution of the Number of days to administer vaccine \")\n",
    "plt.show()"
   ]
  },
  {
   "cell_type": "code",
   "execution_count": 111,
   "metadata": {},
   "outputs": [],
   "source": [
    "days_not_serving = []\n",
    "days_serving = []\n",
    "for j in sites:\n",
    "    num_days = 0\n",
    "    serve = 0\n",
    "    for t in days:\n",
    "        if np.allclose(X[j,t].x, 0) and np.allclose(I[j,t].x, 0) is False:\n",
    "            num_days += 1\n",
    "        if np.allclose(X[j,t].x, 0) is False:\n",
    "            serve +=1 \n",
    "    days_not_serving.append(num_days)\n",
    "    days_serving.append(serve)\n",
    "    "
   ]
  },
  {
   "cell_type": "code",
   "execution_count": 112,
   "metadata": {
    "scrolled": true
   },
   "outputs": [
    {
     "data": {
      "image/png": "[encoded data removed]",
      "text/plain": [
       "<Figure size 432x288 with 1 Axes>"
      ]
     },
     "metadata": {
      "needs_background": "light"
     },
     "output_type": "display_data"
    }
   ],
   "source": [
    "plt.hist(days_not_serving)\n",
    "plt.title(\"Distribution of days POD is Idle\")\n",
    "plt.show()"
   ]
  },
  {
   "cell_type": "code",
   "execution_count": 113,
   "metadata": {},
   "outputs": [
    {
     "data": {
      "image/png": "[encoded data removed]",
      "text/plain": [
       "<Figure size 432x288 with 1 Axes>"
      ]
     },
     "metadata": {
      "needs_background": "light"
     },
     "output_type": "display_data"
    }
   ],
   "source": [
    "plt.hist(days_serving)\n",
    "plt.title(\"Distribution of days actually vaccinating\")\n",
    "plt.show()"
   ]
  },
  {
   "cell_type": "code",
   "execution_count": 114,
   "metadata": {},
   "outputs": [],
   "source": [
    "arr = np.genfromtxt('Aij_Ben_total_distance.csv', delimiter=\",\")"
   ]
  },
  {
   "cell_type": "code",
   "execution_count": 115,
   "metadata": {},
   "outputs": [],
   "source": [
    "arr = arr[:,:47]"
   ]
  },
  {
   "cell_type": "code",
   "execution_count": 116,
   "metadata": {},
   "outputs": [],
   "source": [
    "utilized = []\n",
    "not_utilized = []\n",
    "for j in sites:\n",
    "    for i in zipcodes:\n",
    "        if arr[i,j] == 1:\n",
    "            utilized.append(j)\n",
    "            break\n",
    "        if i == len(zipcodes)-1:\n",
    "            not_utilized.append(j)"
   ]
  },
  {
   "cell_type": "code",
   "execution_count": 117,
   "metadata": {},
   "outputs": [],
   "source": [
    "utilized = []\n",
    "not_utilized = []\n",
    "for j in sites:\n",
    "    if (S[j].x + M[j].x + L[j].x) > 0:\n",
    "        utilized.append(j)\n",
    "    else:\n",
    "        not_utilized.append(j)"
   ]
  },
  {
   "cell_type": "code",
   "execution_count": 118,
   "metadata": {},
   "outputs": [
    {
     "name": "stdout",
     "output_type": "stream",
     "text": [
      "39\n"
     ]
    },
    {
     "data": {
      "text/plain": [
       "Text(0.5, 1.0, 'Neighborhoods (blue) vs optimal POD sites (red)')"
      ]
     },
     "execution_count": 118,
     "metadata": {},
     "output_type": "execute_result"
    },
    {
     "data": {
      "image/png": "[encoded data removed]",
      "text/plain": [
       "<Figure size 432x288 with 1 Axes>"
      ]
     },
     "metadata": {
      "needs_background": "light"
     },
     "output_type": "display_data"
    }
   ],
   "source": [
    "print(num_sites)\n",
    "plt.scatter(neighborhood_longs, neighborhood_lats, marker='o', c = 'blue')\n",
    "plt.scatter(np.take(POD_longs, utilized), np.take(POD_lats, utilized), marker='x', c = 'red')\n",
    "plt.scatter(np.take(POD_longs, not_utilized), np.take(POD_lats, not_utilized), marker='x', c = 'green')\n",
    "plt.xlabel('Longitude')\n",
    "plt.ylabel('Latitude')\n",
    "plt.title('Neighborhoods (blue) vs optimal POD sites (red)')"
   ]
  },
  {
   "cell_type": "code",
   "execution_count": 119,
   "metadata": {
    "scrolled": true
   },
   "outputs": [],
   "source": [
    "vaccinations = []\n",
    "cum_vaccinations = []\n",
    "cum_vaccinated = 0\n",
    "for t in days:\n",
    "    vaccinated = sum(X[j,t].x*(e[0]*S[j].x + e[1]*M[j].x + e[2]*L[j].x) for j in sites)\n",
    "    cum_vaccinated += vaccinated\n",
    "    vaccinations.append(vaccinated)\n",
    "    cum_vaccinations.append(cum_vaccinated)"
   ]
  },
  {
   "cell_type": "code",
   "execution_count": 120,
   "metadata": {},
   "outputs": [
    {
     "data": {
      "image/png": "[encoded data removed]",
      "text/plain": [
       "<Figure size 432x288 with 1 Axes>"
      ]
     },
     "metadata": {
      "needs_background": "light"
     },
     "output_type": "display_data"
    }
   ],
   "source": [
    "timeline = np.arange(100)+1\n",
    "plt.bar(timeline[:18], vaccinations[:18])\n",
    "plt.ylabel(\"Number of people vaccinated\")\n",
    "plt.xlabel(\"Number of days\")\n",
    "plt.title(\"Number of people vaccinated every day\")\n",
    "plt.show()"
   ]
  },
  {
   "cell_type": "code",
   "execution_count": 121,
   "metadata": {},
   "outputs": [
    {
     "data": {
      "image/png": "[encoded data removed]",
      "text/plain": [
       "<Figure size 432x288 with 1 Axes>"
      ]
     },
     "metadata": {
      "needs_background": "light"
     },
     "output_type": "display_data"
    }
   ],
   "source": [
    "timeline = np.arange(100)+1\n",
    "plt.bar(timeline[:18], cum_vaccinations[:18])\n",
    "plt.ylabel(\"Number of people vaccinated\")\n",
    "plt.xlabel(\"Number of days\")\n",
    "plt.title(\"Cumulative Number of people vaccinated every day\")\n",
    "plt.show()"
   ]
  },
  {
   "cell_type": "code",
   "execution_count": 122,
   "metadata": {},
   "outputs": [
    {
     "data": {
      "text/plain": [
       "[137000.0,\n",
       " 137000.0,\n",
       " 137000.0,\n",
       " 136999.99999999942,\n",
       " 136847.00000000073,\n",
       " 136910.0,\n",
       " 136984.0,\n",
       " 83763.99999998738,\n",
       " 0.0,\n",
       " 0.0,\n",
       " 0.0,\n",
       " 3.1263880373444403e-13,\n",
       " 0.0,\n",
       " 0.0,\n",
       " 0.0,\n",
       " 3.694822225952518e-13,\n",
       " 0.0,\n",
       " 0.0,\n",
       " 0.0,\n",
       " 0.0,\n",
       " 0.0,\n",
       " 0.0,\n",
       " 0.0,\n",
       " 0.0,\n",
       " 0.0]"
      ]
     },
     "execution_count": 122,
     "metadata": {},
     "output_type": "execute_result"
    }
   ],
   "source": [
    "vaccinations"
   ]
  },
  {
   "cell_type": "code",
   "execution_count": 123,
   "metadata": {},
   "outputs": [
    {
     "name": "stdout",
     "output_type": "stream",
     "text": [
      "Site: 1 \t 58890.0\n",
      "Site: 2 \t 29410.0\n",
      "Site: 3 \t 29260.0\n",
      "Site: 4 \t 20890.0\n",
      "Site: 5 \t 27034.0\n",
      "Site: 6 \t 22530.0\n",
      "Site: 7 \t 58570.0\n",
      "Site: 8 \t 16460.0\n",
      "Site: 9 \t 15150.0\n",
      "Site: 10 \t 94538.0\n",
      "Site: 11 \t 0.0\n",
      "Site: 12 \t 3950.0\n",
      "Site: 13 \t 12170.0\n",
      "Site: 14 \t 0.0\n",
      "Site: 15 \t 13776.0\n",
      "Site: 16 \t 46900.0\n",
      "Site: 17 \t 24126.0\n",
      "Site: 18 \t 18560.0\n",
      "Site: 19 \t 0.0\n",
      "Site: 20 \t 26490.0\n",
      "Site: 21 \t 21380.0\n",
      "Site: 22 \t 0.0\n",
      "Site: 23 \t 24000.0\n",
      "Site: 24 \t 31130.0\n",
      "Site: 25 \t 14280.0\n",
      "Site: 26 \t 18030.0\n",
      "Site: 27 \t 36970.0\n",
      "Site: 28 \t 41110.0\n",
      "Site: 29 \t 54500.0\n",
      "Site: 30 \t 55453.0\n",
      "Site: 31 \t 34640.0\n",
      "Site: 32 \t 20120.0\n",
      "Site: 33 \t 950.0\n",
      "Site: 34 \t 23380.0\n",
      "Site: 35 \t 10983.0\n",
      "Site: 36 \t 5460.0\n",
      "Site: 37 \t 13854.0\n",
      "Site: 38 \t 10260.0\n",
      "Site: 39 \t 5850.0\n",
      "Site: 40 \t 15350.0\n",
      "Site: 41 \t 0.0\n",
      "Site: 42 \t 0.0\n",
      "Site: 43 \t 35990.0\n",
      "Site: 44 \t 0.0\n",
      "Site: 45 \t 17260.0\n",
      "Site: 46 \t 32851.0\n",
      "Site: 47 \t 0.0\n"
     ]
    }
   ],
   "source": [
    "for j in sites:\n",
    "    print(\"Site:\", j+1, '\\t', sum(A[i,j].x*p[i] for i in zipcodes))"
   ]
  },
  {
   "cell_type": "code",
   "execution_count": 124,
   "metadata": {},
   "outputs": [
    {
     "name": "stdout",
     "output_type": "stream",
     "text": [
      "950.0 \t \t 0.0\n",
      "950.0 \t \t 0.0\n",
      "950.0 \t \t 0.0\n",
      "950.0 \t \t 0.0\n",
      "950.0 \t \t 0.0\n",
      "950.0 \t \t 0.0\n",
      "950.0 \t \t 0.0\n",
      "0.0 \t \t 11.176470588235293\n",
      "0.0 \t \t 0.0\n",
      "0.0 \t \t 0.0\n",
      "0.0 \t \t 0.0\n",
      "0.0 \t \t 0.0\n",
      "0.0 \t \t 0.0\n",
      "0.0 \t \t 0.0\n",
      "0.0 \t \t 0.0\n",
      "0.0 \t \t 0.0\n",
      "0.0 \t \t 0.0\n",
      "0.0 \t \t 0.0\n",
      "0.0 \t \t 0.0\n",
      "0.0 \t \t 0.0\n",
      "0.0 \t \t 0.0\n",
      "0.0 \t \t 0.0\n",
      "0.0 \t \t 0.0\n",
      "0.0 \t \t 0.0\n",
      "0.0 \t \t 0.0\n"
     ]
    }
   ],
   "source": [
    "j = 32\n",
    "for t in days:\n",
    "    print(I[j,t].x, '\\t', '\\t', X[j,t].x)"
   ]
  },
  {
   "cell_type": "code",
   "execution_count": null,
   "metadata": {},
   "outputs": [],
   "source": []
  },
  {
   "cell_type": "code",
   "execution_count": null,
   "metadata": {},
   "outputs": [],
   "source": []
  },
  {
   "cell_type": "code",
   "execution_count": null,
   "metadata": {},
   "outputs": [],
   "source": []
  },
  {
   "cell_type": "code",
   "execution_count": 59,
   "metadata": {},
   "outputs": [
    {
     "name": "stdout",
     "output_type": "stream",
     "text": [
      "Done\n",
      "Done\n"
     ]
    }
   ],
   "source": [
    "# Writing to a csv file\n",
    "\n",
    "with open('Aij_Ben_total_distance.csv', 'w') as f:\n",
    "    for i in zipcodes:\n",
    "        for j in sites:\n",
    "            f.write(str(A[i,j].x) + ',')\n",
    "        f.write('\\n')\n",
    "print('Done')\n",
    "\n",
    "with open('Dij_Ben_total_distance.csv', 'w') as f:\n",
    "    for i in zipcodes:\n",
    "        for j in sites:\n",
    "            f.write(str(D[i,j]) + ',')\n",
    "        f.write('\\n')\n",
    "print('Done')"
   ]
  },
  {
   "cell_type": "code",
   "execution_count": null,
   "metadata": {},
   "outputs": [],
   "source": []
  }
 ],
 "metadata": {
  "kernelspec": {
   "display_name": "Python 3",
   "language": "python",
   "name": "python3"
  },
  "language_info": {
   "codemirror_mode": {
    "name": "ipython",
    "version": 3
   },
   "file_extension": ".py",
   "mimetype": "text/x-python",
   "name": "python",
   "nbconvert_exporter": "python",
   "pygments_lexer": "ipython3",
   "version": "3.8.3"
  }
 },
 "nbformat": 4,
 "nbformat_minor": 4
}
