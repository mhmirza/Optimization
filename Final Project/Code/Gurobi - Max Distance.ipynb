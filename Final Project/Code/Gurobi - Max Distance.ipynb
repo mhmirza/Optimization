{
 "cells": [
  {
   "cell_type": "markdown",
   "metadata": {},
   "source": [
    "# Gurobi Optimization MiniMax"
   ]
  },
  {
   "cell_type": "code",
   "execution_count": 1,
   "metadata": {},
   "outputs": [],
   "source": [
    "import gurobipy as gp\n",
    "from gurobipy import *\n",
    "import numpy as np\n",
    "import csv\n",
    "import os\n",
    "import matplotlib.pyplot as plt\n",
    "import warnings\n",
    "import math\n",
    "import pandas as pd\n",
    "import random\n",
    "\n",
    "warnings.filterwarnings(\"ignore\") # To ignore warnings produced"
   ]
  },
  {
   "cell_type": "code",
   "execution_count": 2,
   "metadata": {},
   "outputs": [
    {
     "data": {
      "text/html": [
       "<div>\n",
       "<style scoped>\n",
       "    .dataframe tbody tr th:only-of-type {\n",
       "        vertical-align: middle;\n",
       "    }\n",
       "\n",
       "    .dataframe tbody tr th {\n",
       "        vertical-align: top;\n",
       "    }\n",
       "\n",
       "    .dataframe thead th {\n",
       "        text-align: right;\n",
       "    }\n",
       "</style>\n",
       "<table border=\"1\" class=\"dataframe\">\n",
       "  <thead>\n",
       "    <tr style=\"text-align: right;\">\n",
       "      <th></th>\n",
       "      <th>OBJECTID</th>\n",
       "      <th>ZIP</th>\n",
       "      <th>NAME</th>\n",
       "      <th>ZIPTYPE</th>\n",
       "      <th>STATE</th>\n",
       "      <th>STATEFIPS</th>\n",
       "      <th>COUNTYFIPS</th>\n",
       "      <th>COUNTYNAME</th>\n",
       "      <th>S3DZIP</th>\n",
       "      <th>LAT</th>\n",
       "      <th>...</th>\n",
       "      <th>MFDU</th>\n",
       "      <th>SFDU</th>\n",
       "      <th>BOXCNT</th>\n",
       "      <th>BIZCNT</th>\n",
       "      <th>RELVER</th>\n",
       "      <th>COLOR</th>\n",
       "      <th>GlobalID</th>\n",
       "      <th>SHAPESTArea</th>\n",
       "      <th>SHAPESTLength</th>\n",
       "      <th>population</th>\n",
       "    </tr>\n",
       "  </thead>\n",
       "  <tbody>\n",
       "    <tr>\n",
       "      <th>0</th>\n",
       "      <td>4</td>\n",
       "      <td>15057</td>\n",
       "      <td>BAKERSTOWN</td>\n",
       "      <td>NON-UNIQUE</td>\n",
       "      <td>PA</td>\n",
       "      <td>42.0</td>\n",
       "      <td>42003.0</td>\n",
       "      <td>ALLEGHENY</td>\n",
       "      <td>150.0</td>\n",
       "      <td>40.361610</td>\n",
       "      <td>...</td>\n",
       "      <td>0.0</td>\n",
       "      <td>107.0</td>\n",
       "      <td>66.0</td>\n",
       "      <td>55.0</td>\n",
       "      <td>1.9.3</td>\n",
       "      <td>10.0</td>\n",
       "      <td>{4768B869-6BC2-4B77-8DC7-A3BB678888D1}</td>\n",
       "      <td>1.337121e+07</td>\n",
       "      <td>20129.308120</td>\n",
       "      <td>6738</td>\n",
       "    </tr>\n",
       "    <tr>\n",
       "      <th>1</th>\n",
       "      <td>4</td>\n",
       "      <td>15206</td>\n",
       "      <td>BAKERSTOWN</td>\n",
       "      <td>NON-UNIQUE</td>\n",
       "      <td>PA</td>\n",
       "      <td>42.0</td>\n",
       "      <td>42003.0</td>\n",
       "      <td>ALLEGHENY</td>\n",
       "      <td>150.0</td>\n",
       "      <td>40.467710</td>\n",
       "      <td>...</td>\n",
       "      <td>0.0</td>\n",
       "      <td>107.0</td>\n",
       "      <td>66.0</td>\n",
       "      <td>55.0</td>\n",
       "      <td>1.9.3</td>\n",
       "      <td>10.0</td>\n",
       "      <td>{4768B869-6BC2-4B77-8DC7-A3BB678888D1}</td>\n",
       "      <td>1.337121e+07</td>\n",
       "      <td>20129.308120</td>\n",
       "      <td>22090</td>\n",
       "    </tr>\n",
       "    <tr>\n",
       "      <th>2</th>\n",
       "      <td>4</td>\n",
       "      <td>15214</td>\n",
       "      <td>BAKERSTOWN</td>\n",
       "      <td>NON-UNIQUE</td>\n",
       "      <td>PA</td>\n",
       "      <td>42.0</td>\n",
       "      <td>42003.0</td>\n",
       "      <td>ALLEGHENY</td>\n",
       "      <td>150.0</td>\n",
       "      <td>40.483220</td>\n",
       "      <td>...</td>\n",
       "      <td>0.0</td>\n",
       "      <td>107.0</td>\n",
       "      <td>66.0</td>\n",
       "      <td>55.0</td>\n",
       "      <td>1.9.3</td>\n",
       "      <td>10.0</td>\n",
       "      <td>{4768B869-6BC2-4B77-8DC7-A3BB678888D1}</td>\n",
       "      <td>1.337121e+07</td>\n",
       "      <td>20129.308120</td>\n",
       "      <td>12010</td>\n",
       "    </tr>\n",
       "    <tr>\n",
       "      <th>3</th>\n",
       "      <td>4</td>\n",
       "      <td>15229</td>\n",
       "      <td>BAKERSTOWN</td>\n",
       "      <td>NON-UNIQUE</td>\n",
       "      <td>PA</td>\n",
       "      <td>42.0</td>\n",
       "      <td>42003.0</td>\n",
       "      <td>ALLEGHENY</td>\n",
       "      <td>150.0</td>\n",
       "      <td>40.517330</td>\n",
       "      <td>...</td>\n",
       "      <td>0.0</td>\n",
       "      <td>107.0</td>\n",
       "      <td>66.0</td>\n",
       "      <td>55.0</td>\n",
       "      <td>1.9.3</td>\n",
       "      <td>10.0</td>\n",
       "      <td>{4768B869-6BC2-4B77-8DC7-A3BB678888D1}</td>\n",
       "      <td>1.337121e+07</td>\n",
       "      <td>20129.308120</td>\n",
       "      <td>13410</td>\n",
       "    </tr>\n",
       "    <tr>\n",
       "      <th>4</th>\n",
       "      <td>4</td>\n",
       "      <td>15228</td>\n",
       "      <td>BAKERSTOWN</td>\n",
       "      <td>NON-UNIQUE</td>\n",
       "      <td>PA</td>\n",
       "      <td>42.0</td>\n",
       "      <td>42003.0</td>\n",
       "      <td>ALLEGHENY</td>\n",
       "      <td>150.0</td>\n",
       "      <td>40.368810</td>\n",
       "      <td>...</td>\n",
       "      <td>0.0</td>\n",
       "      <td>107.0</td>\n",
       "      <td>66.0</td>\n",
       "      <td>55.0</td>\n",
       "      <td>1.9.3</td>\n",
       "      <td>10.0</td>\n",
       "      <td>{4768B869-6BC2-4B77-8DC7-A3BB678888D1}</td>\n",
       "      <td>1.337121e+07</td>\n",
       "      <td>20129.308120</td>\n",
       "      <td>17180</td>\n",
       "    </tr>\n",
       "    <tr>\n",
       "      <th>...</th>\n",
       "      <td>...</td>\n",
       "      <td>...</td>\n",
       "      <td>...</td>\n",
       "      <td>...</td>\n",
       "      <td>...</td>\n",
       "      <td>...</td>\n",
       "      <td>...</td>\n",
       "      <td>...</td>\n",
       "      <td>...</td>\n",
       "      <td>...</td>\n",
       "      <td>...</td>\n",
       "      <td>...</td>\n",
       "      <td>...</td>\n",
       "      <td>...</td>\n",
       "      <td>...</td>\n",
       "      <td>...</td>\n",
       "      <td>...</td>\n",
       "      <td>...</td>\n",
       "      <td>...</td>\n",
       "      <td>...</td>\n",
       "      <td>...</td>\n",
       "    </tr>\n",
       "    <tr>\n",
       "      <th>119</th>\n",
       "      <td>65824</td>\n",
       "      <td>15047</td>\n",
       "      <td>GREENOCK</td>\n",
       "      <td>PO BOX</td>\n",
       "      <td>PA</td>\n",
       "      <td>42.0</td>\n",
       "      <td>42003.0</td>\n",
       "      <td>ALLEGHENY</td>\n",
       "      <td>150.0</td>\n",
       "      <td>40.609477</td>\n",
       "      <td>...</td>\n",
       "      <td>0.0</td>\n",
       "      <td>1.0</td>\n",
       "      <td>162.0</td>\n",
       "      <td>16.0</td>\n",
       "      <td>1.9.3</td>\n",
       "      <td>15.0</td>\n",
       "      <td>{D0843174-66EC-4E75-82B3-87CF445999DA}</td>\n",
       "      <td>7.581705e+06</td>\n",
       "      <td>16838.182670</td>\n",
       "      <td>378</td>\n",
       "    </tr>\n",
       "    <tr>\n",
       "      <th>122</th>\n",
       "      <td>65828</td>\n",
       "      <td>15032</td>\n",
       "      <td>CURTISVILLE</td>\n",
       "      <td>PO BOX</td>\n",
       "      <td>PA</td>\n",
       "      <td>42.0</td>\n",
       "      <td>42003.0</td>\n",
       "      <td>ALLEGHENY</td>\n",
       "      <td>150.0</td>\n",
       "      <td>40.382820</td>\n",
       "      <td>...</td>\n",
       "      <td>346.0</td>\n",
       "      <td>4134.0</td>\n",
       "      <td>58.0</td>\n",
       "      <td>472.0</td>\n",
       "      <td>1.9.3</td>\n",
       "      <td>6.0</td>\n",
       "      <td>{DB50227E-70F4-42B6-8520-7459A48CA185}</td>\n",
       "      <td>8.121033e+02</td>\n",
       "      <td>124.463622</td>\n",
       "      <td>244</td>\n",
       "    </tr>\n",
       "    <tr>\n",
       "      <th>124</th>\n",
       "      <td>65837</td>\n",
       "      <td>15221</td>\n",
       "      <td>PITTSBURGH</td>\n",
       "      <td>NON-UNIQUE</td>\n",
       "      <td>PA</td>\n",
       "      <td>42.0</td>\n",
       "      <td>42003.0</td>\n",
       "      <td>ALLEGHENY</td>\n",
       "      <td>152.0</td>\n",
       "      <td>40.467750</td>\n",
       "      <td>...</td>\n",
       "      <td>3486.0</td>\n",
       "      <td>12256.0</td>\n",
       "      <td>298.0</td>\n",
       "      <td>826.0</td>\n",
       "      <td>1.9.3</td>\n",
       "      <td>11.0</td>\n",
       "      <td>{FD9F8061-8A24-42E9-B338-E4E0AD2E4902}</td>\n",
       "      <td>1.661810e+08</td>\n",
       "      <td>94732.735410</td>\n",
       "      <td>23860</td>\n",
       "    </tr>\n",
       "    <tr>\n",
       "      <th>125</th>\n",
       "      <td>65839</td>\n",
       "      <td>15205</td>\n",
       "      <td>PITTSBURGH</td>\n",
       "      <td>NON-UNIQUE</td>\n",
       "      <td>PA</td>\n",
       "      <td>42.0</td>\n",
       "      <td>42003.0</td>\n",
       "      <td>ALLEGHENY</td>\n",
       "      <td>152.0</td>\n",
       "      <td>40.483220</td>\n",
       "      <td>...</td>\n",
       "      <td>1718.0</td>\n",
       "      <td>8997.0</td>\n",
       "      <td>116.0</td>\n",
       "      <td>1222.0</td>\n",
       "      <td>1.9.3</td>\n",
       "      <td>11.0</td>\n",
       "      <td>{0DA8A3EB-2BBC-4D9A-B932-9C9C9BF5E3E3}</td>\n",
       "      <td>3.850844e+08</td>\n",
       "      <td>236307.108000</td>\n",
       "      <td>20320</td>\n",
       "    </tr>\n",
       "    <tr>\n",
       "      <th>126</th>\n",
       "      <td>65841</td>\n",
       "      <td>15202</td>\n",
       "      <td>PITTSBURGH</td>\n",
       "      <td>NON-UNIQUE</td>\n",
       "      <td>PA</td>\n",
       "      <td>42.0</td>\n",
       "      <td>42003.0</td>\n",
       "      <td>ALLEGHENY</td>\n",
       "      <td>152.0</td>\n",
       "      <td>40.370729</td>\n",
       "      <td>...</td>\n",
       "      <td>2933.0</td>\n",
       "      <td>10866.0</td>\n",
       "      <td>291.0</td>\n",
       "      <td>961.0</td>\n",
       "      <td>1.9.3</td>\n",
       "      <td>8.0</td>\n",
       "      <td>{596780DC-3492-441C-B852-8ED5E8E6875C}</td>\n",
       "      <td>1.466148e+08</td>\n",
       "      <td>96608.040310</td>\n",
       "      <td>17220</td>\n",
       "    </tr>\n",
       "  </tbody>\n",
       "</table>\n",
       "<p>97 rows × 23 columns</p>\n",
       "</div>"
      ],
      "text/plain": [
       "     OBJECTID    ZIP         NAME     ZIPTYPE STATE  STATEFIPS  COUNTYFIPS  \\\n",
       "0           4  15057   BAKERSTOWN  NON-UNIQUE    PA       42.0     42003.0   \n",
       "1           4  15206   BAKERSTOWN  NON-UNIQUE    PA       42.0     42003.0   \n",
       "2           4  15214   BAKERSTOWN  NON-UNIQUE    PA       42.0     42003.0   \n",
       "3           4  15229   BAKERSTOWN  NON-UNIQUE    PA       42.0     42003.0   \n",
       "4           4  15228   BAKERSTOWN  NON-UNIQUE    PA       42.0     42003.0   \n",
       "..        ...    ...          ...         ...   ...        ...         ...   \n",
       "119     65824  15047     GREENOCK      PO BOX    PA       42.0     42003.0   \n",
       "122     65828  15032  CURTISVILLE      PO BOX    PA       42.0     42003.0   \n",
       "124     65837  15221   PITTSBURGH  NON-UNIQUE    PA       42.0     42003.0   \n",
       "125     65839  15205   PITTSBURGH  NON-UNIQUE    PA       42.0     42003.0   \n",
       "126     65841  15202   PITTSBURGH  NON-UNIQUE    PA       42.0     42003.0   \n",
       "\n",
       "    COUNTYNAME  S3DZIP        LAT  ...    MFDU     SFDU  BOXCNT  BIZCNT  \\\n",
       "0    ALLEGHENY   150.0  40.361610  ...     0.0    107.0    66.0    55.0   \n",
       "1    ALLEGHENY   150.0  40.467710  ...     0.0    107.0    66.0    55.0   \n",
       "2    ALLEGHENY   150.0  40.483220  ...     0.0    107.0    66.0    55.0   \n",
       "3    ALLEGHENY   150.0  40.517330  ...     0.0    107.0    66.0    55.0   \n",
       "4    ALLEGHENY   150.0  40.368810  ...     0.0    107.0    66.0    55.0   \n",
       "..         ...     ...        ...  ...     ...      ...     ...     ...   \n",
       "119  ALLEGHENY   150.0  40.609477  ...     0.0      1.0   162.0    16.0   \n",
       "122  ALLEGHENY   150.0  40.382820  ...   346.0   4134.0    58.0   472.0   \n",
       "124  ALLEGHENY   152.0  40.467750  ...  3486.0  12256.0   298.0   826.0   \n",
       "125  ALLEGHENY   152.0  40.483220  ...  1718.0   8997.0   116.0  1222.0   \n",
       "126  ALLEGHENY   152.0  40.370729  ...  2933.0  10866.0   291.0   961.0   \n",
       "\n",
       "     RELVER  COLOR                                GlobalID   SHAPESTArea  \\\n",
       "0     1.9.3   10.0  {4768B869-6BC2-4B77-8DC7-A3BB678888D1}  1.337121e+07   \n",
       "1     1.9.3   10.0  {4768B869-6BC2-4B77-8DC7-A3BB678888D1}  1.337121e+07   \n",
       "2     1.9.3   10.0  {4768B869-6BC2-4B77-8DC7-A3BB678888D1}  1.337121e+07   \n",
       "3     1.9.3   10.0  {4768B869-6BC2-4B77-8DC7-A3BB678888D1}  1.337121e+07   \n",
       "4     1.9.3   10.0  {4768B869-6BC2-4B77-8DC7-A3BB678888D1}  1.337121e+07   \n",
       "..      ...    ...                                     ...           ...   \n",
       "119   1.9.3   15.0  {D0843174-66EC-4E75-82B3-87CF445999DA}  7.581705e+06   \n",
       "122   1.9.3    6.0  {DB50227E-70F4-42B6-8520-7459A48CA185}  8.121033e+02   \n",
       "124   1.9.3   11.0  {FD9F8061-8A24-42E9-B338-E4E0AD2E4902}  1.661810e+08   \n",
       "125   1.9.3   11.0  {0DA8A3EB-2BBC-4D9A-B932-9C9C9BF5E3E3}  3.850844e+08   \n",
       "126   1.9.3    8.0  {596780DC-3492-441C-B852-8ED5E8E6875C}  1.466148e+08   \n",
       "\n",
       "     SHAPESTLength population  \n",
       "0     20129.308120       6738  \n",
       "1     20129.308120      22090  \n",
       "2     20129.308120      12010  \n",
       "3     20129.308120      13410  \n",
       "4     20129.308120      17180  \n",
       "..             ...        ...  \n",
       "119   16838.182670        378  \n",
       "122     124.463622        244  \n",
       "124   94732.735410      23860  \n",
       "125  236307.108000      20320  \n",
       "126   96608.040310      17220  \n",
       "\n",
       "[97 rows x 23 columns]"
      ]
     },
     "execution_count": 2,
     "metadata": {},
     "output_type": "execute_result"
    }
   ],
   "source": [
    "zips_df = pd.read_csv('Zipcode.csv')\n",
    "# zips_df\n",
    "zips_df = zips_df.loc[(zips_df['COUNTYNAME'] == 'ALLEGHENY') & (zips_df['population'] > 0)]\n",
    "zips_df\n"
   ]
  },
  {
   "cell_type": "code",
   "execution_count": 3,
   "metadata": {},
   "outputs": [],
   "source": [
    "zips = zips_df['ZIP'].to_list()\n",
    "# zips\n",
    "all_n = np.array(zips)\n",
    "# # zips\n",
    "# np.in1d(POD_zips, all_n)\n",
    "# 0,1,5,9,10,13,15,16,21,22,24,27,29,36\n",
    "# POD_zips[[0,1,5,9,10,13,15,16,21,22,24,27,29,36]]"
   ]
  },
  {
   "cell_type": "code",
   "execution_count": 4,
   "metadata": {},
   "outputs": [
    {
     "name": "stdout",
     "output_type": "stream",
     "text": [
      "[15237 15236 15102 15216 15227 15106 15210 15220 15025 15108 15024 15110\n",
      " 15137 15037 15238 15146 15101 15065 15216 15132 15136 15108 15228 15090\n",
      " 15229 15202 15235 15214 15044 15206 15217 15239 15056 15139 15209 15133\n",
      " 15057 15129 15144 15120 15136 15025 15241 15126 15122 15221 15221]\n",
      "[15057 15206 15214 15229 15228 15108 15101 15146 15037 15024 15108 15106\n",
      " 15236 15237 15007 15014 15015 15018 15025 15034 15030 15035 15046 15049\n",
      " 15064 15065 15082 15110 15112 15129 15131 15132 15133 15135 15137 15144\n",
      " 15148 15203 15211 15213 15224 15225 15232 15239 15275 15006 15051 15223\n",
      " 15227 16229 15282 15083 15088 15116 15122 15204 15216 15102 15234 15120\n",
      " 15017 15215 15139 15028 15145 15104 15086 15142 15241 15226 15207 15075\n",
      " 15076 15209 15243 15136 16046 15056 15045 15090 15084 15147 15235 15238\n",
      " 15220 15217 15233 15143 15210 15289 15044 15126 15047 15032 15221 15205\n",
      " 15202]\n"
     ]
    }
   ],
   "source": [
    "zipcodes_path = 'pittsburgh-allegheny-county.csv'\n",
    "data = np.genfromtxt(zipcodes_path, dtype=str, delimiter=',', encoding='utf-8-sig')\n",
    "# neighborhoods = data.astype(np.int)\n",
    "neighborhoods = all_n.astype(np.int)\n",
    "\n",
    "POD_sites_path = 'POD Sites.xlsx'\n",
    "POD_df = pd.read_excel(POD_sites_path)\n",
    "POD_df = POD_df[['SCHOOL/FACILITY NAME', 'STRIP MAP']]\n",
    "POD_df['ZIPCODE'] = POD_df['STRIP MAP'].apply(lambda x: str(x)[-5:])\n",
    "POD_df = POD_df[:47]\n",
    "POD_df\n",
    "\n",
    "POD_zips = np.array(pd.to_numeric(POD_df.ZIPCODE).values)\n",
    "print(POD_zips)\n",
    "print(neighborhoods)"
   ]
  },
  {
   "cell_type": "code",
   "execution_count": 5,
   "metadata": {},
   "outputs": [],
   "source": [
    "num_neighborhoods = len(neighborhoods)\n",
    "num_sites = len(POD_zips)\n",
    "\n",
    "\n",
    "random.seed(20)\n",
    "\n",
    "zipcodes_df = pd.read_csv('Zipcode.csv')\n",
    "# zipcodes_df = zipcodes_df.loc[zipcodes_df['type'].isin(['STANDARD', 'UNIQUE'])]\n",
    "zipcodes_df = zipcodes_df.loc[(zipcodes_df['population'] > 0)]\n",
    "zipcodes_df_filtered = zipcodes_df[['ZIP', 'NAME', 'LAT', 'LON', 'population']]\n",
    "\n",
    "\n",
    "from math import sin, cos, sqrt, atan2, radians\n",
    "\n",
    "def calcDistBetweenTwoPoints(pt1, pt2):\n",
    "    # approximate radius of earth in km\n",
    "    R = 6373.0\n",
    "    lat1 = radians(pt1[0])\n",
    "    lon1 = radians(pt1[1])\n",
    "    lat2 = radians(pt2[0])\n",
    "    lon2 = radians(pt2[1])\n",
    "    dlon = lon2 - lon1\n",
    "    dlat = lat2 - lat1\n",
    "    a = sin(dlat / 2)**2 + cos(lat1) * cos(lat2) * sin(dlon / 2)**2\n",
    "    c = 2 * atan2(sqrt(a), sqrt(1 - a))\n",
    "    distance = R * c\n",
    "    return(distance)\n",
    "    \n",
    "def getLatLongFromZip_graph(zipcode, df):\n",
    "    lat = df.loc[df['ZIP'] == zipcode]['LAT'].values[0]\n",
    "    long = df.loc[df['ZIP'] == zipcode]['LON'].values[0]\n",
    "    return((lat, long))\n",
    "\n",
    "def getLatLongFromZip(zipcode, df):\n",
    "    lat = df.loc[df['ZIP'] == zipcode]['LAT'].values[0]\n",
    "    long = df.loc[df['ZIP'] == zipcode]['LON'].values[0]\n",
    "    return((lat, long))\n",
    "    \n",
    "problematic_n = []\n",
    "problematic_s = []\n",
    "distances = []\n",
    "# nomi.query_postal_code()['latitude']\n",
    "for i in range(num_neighborhoods):\n",
    "    temp = []\n",
    "    for j in range(num_sites):\n",
    "        try:\n",
    "#             print(POD_zips[j])\n",
    "            pt1 = getLatLongFromZip(neighborhoods[i], zips_df)\n",
    "#             pt1 = (nomi.query_postal_code(str(neighborhoods[i]))['latitude'], nomi.query_postal_code(str(neighborhoods[i]))['longitude'])\n",
    "#             print(pt1)\n",
    "            pt2 = getLatLongFromZip(POD_zips[j], zips_df)\n",
    "#             pt2 = (nomi.query_postal_code(str(POD_zips[j]))['latitude'], nomi.query_postal_code(str(POD_zips[j]))['longitude'])\n",
    "            dist = calcDistBetweenTwoPoints(pt1, pt2)\n",
    "            temp.append(dist)\n",
    "        except:\n",
    "            problematic_n.append(neighborhoods[i])\n",
    "            problematic_s.append(POD_zips[j])\n",
    "#             print(neighborhoods[i], POD_zips[j])\n",
    "            print('-'*50)\n",
    "            temp.append(1000000)\n",
    "    distances.append(temp)\n",
    "distances = np.array(distances)\n",
    "# distances = np.delete(distances, (12), axis=0)"
   ]
  },
  {
   "cell_type": "code",
   "execution_count": 6,
   "metadata": {},
   "outputs": [
    {
     "data": {
      "text/plain": [
       "Text(0.5, 1.0, 'Neighborhoods (blue) vs possible POD sites (red)')"
      ]
     },
     "execution_count": 6,
     "metadata": {},
     "output_type": "execute_result"
    },
    {
     "data": {
      "image/png": "[encoded data removed]",
      "text/plain": [
       "<Figure size 432x288 with 1 Axes>"
      ]
     },
     "metadata": {
      "needs_background": "light"
     },
     "output_type": "display_data"
    }
   ],
   "source": [
    "POD_lats = []\n",
    "POD_longs = []\n",
    "\n",
    "for z in POD_zips:\n",
    "    lat, long = getLatLongFromZip_graph(z, zips_df)\n",
    "    POD_lats.append(lat)\n",
    "    POD_longs.append(long)\n",
    "    \n",
    "neighborhood_lats = []\n",
    "neighborhood_longs = []\n",
    "\n",
    "for z in neighborhoods:\n",
    "    lat, long = getLatLongFromZip_graph(z, zips_df)\n",
    "    neighborhood_lats.append(lat)\n",
    "    neighborhood_longs.append(long)\n",
    "\n",
    "    \n",
    "plt.scatter(neighborhood_longs, neighborhood_lats, marker='o', c = 'blue')\n",
    "plt.scatter(POD_longs, POD_lats, marker='x', c = 'red')\n",
    "plt.xlabel('Longitude')\n",
    "plt.ylabel('Latitude')\n",
    "plt.title('Neighborhoods (blue) vs possible POD sites (red)')\n",
    "\n",
    "\n"
   ]
  },
  {
   "cell_type": "code",
   "execution_count": 7,
   "metadata": {},
   "outputs": [
    {
     "name": "stdout",
     "output_type": "stream",
     "text": [
      "[ 6738 22090 12010 13410 17180 37850 24110 25680  9730  7970 37850 16810\n",
      " 29410 42230   360  2650  1290   750 15150  1350   850  1770  2360   860\n",
      "   310  9890   386  3950  2650 10260  7280 14700  5460  4510  8540  3580\n",
      "  1860  6410  8560  7230  7630   870  6760 20120    13   359   360  6180\n",
      " 26790  4790    16   900   631 13950 17260  6820 19990 28950 12670 15350\n",
      " 14880 11150  6080   170  5720  6020   560  1860 22040 11930  8780   207\n",
      "   810 10970 13340 20030 18170   950  3500 23900  8360 13980 30560 12850\n",
      " 16460 21290  2120 21220 20140   123 29140  6730   378   244 23860 20320\n",
      " 17220]\n"
     ]
    }
   ],
   "source": [
    "population = []\n",
    "for i in range(num_neighborhoods):\n",
    "    try:\n",
    "        population.append(zipcodes_df_filtered.loc[zipcodes_df_filtered['ZIP'] == neighborhoods[i]]['population'].values[0])\n",
    "    except:\n",
    "        pass\n",
    "\n",
    "population = np.array(population)\n",
    "pop_mean = np.mean(population)\n",
    "\n",
    "#for i in range(len(population)):\n",
    "#    if(population[i] == 0):\n",
    "#        population[i] = pop_mean\n",
    "print(population)"
   ]
  },
  {
   "cell_type": "code",
   "execution_count": 48,
   "metadata": {},
   "outputs": [
    {
     "data": {
      "text/plain": [
       "(97,)"
      ]
     },
     "execution_count": 48,
     "metadata": {},
     "output_type": "execute_result"
    }
   ],
   "source": [
    "population.shape"
   ]
  },
  {
   "cell_type": "markdown",
   "metadata": {},
   "source": [
    "## Find the min max distance possible"
   ]
  },
  {
   "cell_type": "code",
   "execution_count": 9,
   "metadata": {},
   "outputs": [
    {
     "name": "stdout",
     "output_type": "stream",
     "text": [
      "Academic license - for non-commercial use only - expires 2022-08-29\n",
      "Using license file C:\\Users\\Ben\\gurobi.lic\n"
     ]
    }
   ],
   "source": [
    "# MODEL INITIALIZATION\n",
    "m1 = Model()\n",
    "sizes = range(3)\n",
    "zipcodes = range(distances.shape[0])\n",
    "sites = range(distances.shape[1])\n",
    "days = range(25)\n",
    "\n",
    "# CONSTANTS\n",
    "D = distances\n",
    "p = population\n",
    "total_pop = population.sum()\n",
    "e = np.array([72, 85, 100])\n",
    "o = 20000\n",
    "v = 50\n",
    "f = 8000\n",
    "r = 206.76\n",
    "h = 12.5\n",
    "C = 1370\n",
    "\n",
    "# DECISION VARIABLES\n",
    "A = m1.addVars(zipcodes, sites, vtype = GRB.BINARY)\n",
    "S = m1.addVars(sites, vtype = GRB.BINARY)\n",
    "M = m1.addVars(sites, vtype = GRB.BINARY)\n",
    "L = m1.addVars(sites, vtype = GRB.BINARY)\n",
    "U = m1.addVars(sites, days, vtype = GRB.BINARY)\n",
    "X = m1.addVars(sites, days)#, vtype = GRB.INTEGER)\n",
    "I = m1.addVars(sites, days)#, vtype = GRB.INTEGER)\n",
    "\n",
    "# OBJECTIVE\n",
    "\n",
    "MAX = m1.addVar(lb = 0.0)\n",
    "m1.setObjective(MAX)\n",
    "m1.modelSense = GRB.MINIMIZE\n",
    "\n",
    "# CONSTRAINTS\n",
    "for i in zipcodes:\n",
    "    m1.addConstr(sum(A[i,j] for j in sites) == 1)\n",
    "    \n",
    "    for j in sites:\n",
    "        m1.addConstr(MAX >= D[i,j]*A[i,j])\n",
    "        m1.addConstr(A[i,j] <= S[j] + M[j] + L[j])\n",
    "        m1.addConstr(A[i,j] >= 0)\n",
    "        \n",
    "for j in sites:\n",
    "    assigned_pop = sum(A[i,j] * p[i] for i in zipcodes)\n",
    "    m1.addConstr(S[j] + M[j] + L[j] <= 1)\n",
    "    m1.addConstr(sum(e[0]*X[j,t] for t in days) >= assigned_pop - (1-S[j])*total_pop)\n",
    "    m1.addConstr(sum(e[1]*X[j,t] for t in days) >= assigned_pop - (1-M[j])*total_pop)\n",
    "    m1.addConstr(sum(e[2]*X[j,t] for t in days) >= assigned_pop)\n",
    "    m1.addConstr(S[j] >= 0)\n",
    "    m1.addConstr(M[j] >= 0)\n",
    "    m1.addConstr(L[j] >= 0)\n",
    "    \n",
    "    administered = [0,0,0]\n",
    "    for t in days:\n",
    "        administered[0] += e[0]*X[j,t]\n",
    "        administered[1] += e[1]*X[j,t]\n",
    "        administered[2] += e[2]*X[j,t]\n",
    "        m1.addConstr(X[j,t] >= 10*M[j] + 20*L[j] - 20*(1-U[j,t]))\n",
    "        m1.addConstr(X[j,t] <= 10*S[j] + 20*M[j] + C*L[j]) #The third term is redundant\n",
    "        m1.addConstr(X[j,t] <= C*U[j,t])\n",
    "        m1.addConstr(U[j,t] <= S[j] + M[j] + L[j])\n",
    "        m1.addConstr(I[j,t] + (1-S[j])*total_pop >= assigned_pop - administered[0])\n",
    "        m1.addConstr(I[j,t] + (1-M[j])*total_pop >= assigned_pop - administered[1])\n",
    "        m1.addConstr(I[j,t] + (1-L[j])*total_pop >= assigned_pop - administered[2])\n",
    "        m1.addConstr(X[j,t] >= 0)\n",
    "        m1.addConstr(I[j,t] >= 0)\n",
    "        m1.addConstr(U[j,t] >= 0)   \n",
    "        \n",
    "for t in days:\n",
    "    m1.addConstr(sum(X[j,t] for j in sites) <= C)\n"
   ]
  },
  {
   "cell_type": "code",
   "execution_count": 10,
   "metadata": {
    "scrolled": true
   },
   "outputs": [
    {
     "name": "stdout",
     "output_type": "stream",
     "text": [
      "Changed value of parameter TimeLimit to 1200.0\n",
      "   Prev: inf  Min: 0.0  Max: inf  Default: inf\n",
      "Gurobi Optimizer version 9.1.2 build v9.1.2rc0 (win64)\n",
      "Thread count: 6 physical cores, 12 logical processors, using up to 12 threads\n",
      "Optimize a model with 25878 rows, 8226 columns and 469941 nonzeros\n",
      "Model fingerprint: 0x5ebb2a7c\n",
      "Variable types: 2351 continuous, 5875 integer (5875 binary)\n",
      "Coefficient statistics:\n",
      "  Matrix range     [2e-01, 1e+06]\n",
      "  Objective range  [1e+00, 1e+00]\n",
      "  Bounds range     [1e+00, 1e+00]\n",
      "  RHS range        [1e+00, 1e+06]\n",
      "Presolve removed 11902 rows and 1175 columns\n",
      "Presolve time: 0.28s\n",
      "Presolved: 13976 rows, 7051 columns, 66716 nonzeros\n",
      "Variable types: 1176 continuous, 5875 integer (5875 binary)\n",
      "Found heuristic solution: objective 47.6903713\n",
      "Found heuristic solution: objective 42.6720166\n",
      "Found heuristic solution: objective 35.9605456\n",
      "Found heuristic solution: objective 32.0191374\n",
      "\n",
      "Root relaxation: objective 2.849850e+00, 1695 iterations, 0.11 seconds\n",
      "\n",
      "    Nodes    |    Current Node    |     Objective Bounds      |     Work\n",
      " Expl Unexpl |  Obj  Depth IntInf | Incumbent    BestBd   Gap | It/Node Time\n",
      "\n",
      "     0     0    2.84985    0  239   32.01914    2.84985  91.1%     -    0s\n",
      "H    0     0                      22.0790336    2.84985  87.1%     -    0s\n",
      "H    0     0                      21.8695576    2.84985  87.0%     -    0s\n",
      "H    0     0                      16.8495262    2.84985  83.1%     -    0s\n",
      "H    0     0                      14.7092211    2.84985  80.6%     -    1s\n",
      "H    0     0                      14.6579122    2.84985  80.6%     -    1s\n",
      "\n",
      "Cutting planes:\n",
      "  Cover: 2\n",
      "  MIR: 6\n",
      "  Flow cover: 5\n",
      "  RLT: 35\n",
      "  Relax-and-lift: 17\n",
      "\n",
      "Explored 1 nodes (7339 simplex iterations) in 1.08 seconds\n",
      "Thread count was 12 (of 12 available processors)\n",
      "\n",
      "Solution count 9: 14.6579 14.7092 16.8495 ... 47.6904\n",
      "\n",
      "Optimal solution found (tolerance 1.00e-04)\n",
      "Best objective 1.465791215778e+01, best bound 1.465791215778e+01, gap 0.0000%\n"
     ]
    }
   ],
   "source": [
    "#m1.Params.MIPGap = 0.1\n",
    "m1.Params.TimeLimit = 20*60\n",
    "m1.optimize()"
   ]
  },
  {
   "cell_type": "code",
   "execution_count": 11,
   "metadata": {},
   "outputs": [
    {
     "data": {
      "text/plain": [
       "14.657912157781494"
      ]
     },
     "execution_count": 11,
     "metadata": {},
     "output_type": "execute_result"
    }
   ],
   "source": [
    "m1.objval"
   ]
  },
  {
   "cell_type": "markdown",
   "metadata": {},
   "source": [
    "The minimum max distance possible is 14.66"
   ]
  },
  {
   "cell_type": "code",
   "execution_count": 12,
   "metadata": {},
   "outputs": [
    {
     "name": "stdout",
     "output_type": "stream",
     "text": [
      "46\n"
     ]
    }
   ],
   "source": [
    "num_sites = 0\n",
    "for j in sites:\n",
    "    if (S[j].x + M[j].x + L[j].x) > 0:\n",
    "        num_sites += 1\n",
    "print(num_sites)"
   ]
  },
  {
   "cell_type": "markdown",
   "metadata": {},
   "source": [
    "## Minimizing distance while keeping cost at a minimum"
   ]
  },
  {
   "cell_type": "code",
   "execution_count": 13,
   "metadata": {},
   "outputs": [
    {
     "data": {
      "text/plain": [
       "30.520364383667598"
      ]
     },
     "execution_count": 13,
     "metadata": {},
     "output_type": "execute_result"
    }
   ],
   "source": [
    "distances.max(0).min()"
   ]
  },
  {
   "cell_type": "code",
   "execution_count": 14,
   "metadata": {},
   "outputs": [
    {
     "data": {
      "text/plain": [
       "29"
      ]
     },
     "execution_count": 14,
     "metadata": {},
     "output_type": "execute_result"
    }
   ],
   "source": [
    "np.argmin(distances.max(0))"
   ]
  },
  {
   "cell_type": "markdown",
   "metadata": {},
   "source": [
    "Use only one site, site 29"
   ]
  },
  {
   "cell_type": "markdown",
   "metadata": {},
   "source": [
    "## Minimizing Cost while holding max distance at minimum"
   ]
  },
  {
   "cell_type": "code",
   "execution_count": 15,
   "metadata": {
    "scrolled": true
   },
   "outputs": [
    {
     "name": "stdout",
     "output_type": "stream",
     "text": [
      "Changed value of parameter TimeLimit to 1800.0\n",
      "   Prev: 1200.0  Min: 0.0  Max: inf  Default: inf\n",
      "Gurobi Optimizer version 9.1.2 build v9.1.2rc0 (win64)\n",
      "Thread count: 6 physical cores, 12 logical processors, using up to 12 threads\n",
      "Optimize a model with 25879 rows, 8226 columns and 469942 nonzeros\n",
      "Model fingerprint: 0x31a8891f\n",
      "Variable types: 2351 continuous, 5875 integer (5875 binary)\n",
      "Coefficient statistics:\n",
      "  Matrix range     [2e-01, 1e+06]\n",
      "  Objective range  [1e+01, 2e+06]\n",
      "  Bounds range     [1e+00, 1e+00]\n",
      "  RHS range        [1e+00, 1e+06]\n",
      "\n",
      "MIP start from previous solve produced solution with objective 1.59435e+08 (0.12s)\n",
      "Loaded MIP start from previous solve with objective 1.59435e+08\n",
      "\n",
      "Presolve removed 16014 rows and 3081 columns\n",
      "Presolve time: 0.58s\n",
      "Presolved: 9865 rows, 5145 columns, 190018 nonzeros\n",
      "Variable types: 2335 continuous, 2810 integer (2810 binary)\n",
      "\n",
      "Root relaxation: objective 5.446161e+07, 11334 iterations, 1.04 seconds\n",
      "\n",
      "    Nodes    |    Current Node    |     Objective Bounds      |     Work\n",
      " Expl Unexpl |  Obj  Depth IntInf | Incumbent    BestBd   Gap | It/Node Time\n",
      "\n",
      "     0     0 5.4462e+07    0   41 1.5944e+08 5.4462e+07  65.8%     -    2s\n",
      "H    0     0                    1.588430e+08 5.4462e+07  65.7%     -    2s\n",
      "H    0     0                    1.587430e+08 5.4462e+07  65.7%     -    2s\n",
      "     0     0 5.4462e+07    0  320 1.5874e+08 5.4462e+07  65.7%     -    2s\n",
      "     0     0 5.4462e+07    0  320 1.5874e+08 5.4462e+07  65.7%     -    2s\n",
      "H    0     0                    9.985776e+07 5.4462e+07  45.5%     -    4s\n",
      "H    0     0                    9.818966e+07 5.4462e+07  44.5%     -    4s\n",
      "     0     0 5.4462e+07    0  236 9.8190e+07 5.4462e+07  44.5%     -    4s\n",
      "     0     0 5.4462e+07    0  261 9.8190e+07 5.4462e+07  44.5%     -    4s\n",
      "     0     0 5.4462e+07    0  450 9.8190e+07 5.4462e+07  44.5%     -    5s\n",
      "     0     0 5.4462e+07    0  412 9.8190e+07 5.4462e+07  44.5%     -    5s\n",
      "     0     0 5.4462e+07    0  414 9.8190e+07 5.4462e+07  44.5%     -    5s\n",
      "     0     0 5.4462e+07    0  362 9.8190e+07 5.4462e+07  44.5%     -    6s\n",
      "     0     0 5.4463e+07    0  421 9.8190e+07 5.4463e+07  44.5%     -    7s\n",
      "     0     0 5.4463e+07    0  441 9.8190e+07 5.4463e+07  44.5%     -    7s\n",
      "     0     0 5.4464e+07    0  428 9.8190e+07 5.4464e+07  44.5%     -    7s\n",
      "     0     0 5.4464e+07    0  429 9.8190e+07 5.4464e+07  44.5%     -    7s\n",
      "     0     0 5.4464e+07    0  450 9.8190e+07 5.4464e+07  44.5%     -    7s\n",
      "     0     0 5.4464e+07    0  484 9.8190e+07 5.4464e+07  44.5%     -    7s\n",
      "     0     0 5.4464e+07    0  484 9.8190e+07 5.4464e+07  44.5%     -    7s\n",
      "H    0     0                    9.793971e+07 5.4464e+07  44.4%     -    8s\n",
      "H    0     0                    9.777392e+07 5.4464e+07  44.3%     -    8s\n",
      "     0     0 5.4467e+07    0  445 9.7774e+07 5.4467e+07  44.3%     -    8s\n",
      "     0     0 5.4467e+07    0  611 9.7774e+07 5.4467e+07  44.3%     -    8s\n",
      "     0     0 5.4467e+07    0  551 9.7774e+07 5.4467e+07  44.3%     -    8s\n",
      "     0     0 5.4467e+07    0  586 9.7774e+07 5.4467e+07  44.3%     -    8s\n",
      "     0     0 5.4468e+07    0  519 9.7774e+07 5.4468e+07  44.3%     -    8s\n",
      "     0     0 5.4468e+07    0  564 9.7774e+07 5.4468e+07  44.3%     -    8s\n",
      "     0     0 5.4468e+07    0  562 9.7774e+07 5.4468e+07  44.3%     -    8s\n",
      "     0     0 5.4468e+07    0  563 9.7774e+07 5.4468e+07  44.3%     -    8s\n",
      "     0     0 5.4469e+07    0  488 9.7774e+07 5.4469e+07  44.3%     -    9s\n",
      "     0     0 5.4470e+07    0  520 9.7774e+07 5.4470e+07  44.3%     -    9s\n",
      "     0     0 5.4470e+07    0  529 9.7774e+07 5.4470e+07  44.3%     -    9s\n",
      "     0     0 5.4470e+07    0  446 9.7774e+07 5.4470e+07  44.3%     -    9s\n",
      "     0     0 5.4470e+07    0  533 9.7774e+07 5.4470e+07  44.3%     -    9s\n",
      "     0     0 5.4470e+07    0  535 9.7774e+07 5.4470e+07  44.3%     -    9s\n",
      "     0     0 5.4470e+07    0  522 9.7774e+07 5.4470e+07  44.3%     -   10s\n",
      "     0     0 5.4470e+07    0  484 9.7774e+07 5.4470e+07  44.3%     -   10s\n",
      "     0     0 5.4470e+07    0  386 9.7774e+07 5.4470e+07  44.3%     -   10s\n",
      "     0     0 5.4470e+07    0  390 9.7774e+07 5.4470e+07  44.3%     -   10s\n",
      "     0     0 5.4471e+07    0  506 9.7774e+07 5.4471e+07  44.3%     -   10s\n",
      "     0     0 5.4471e+07    0  564 9.7774e+07 5.4471e+07  44.3%     -   11s\n",
      "     0     0 5.4471e+07    0  590 9.7774e+07 5.4471e+07  44.3%     -   11s\n",
      "     0     0 5.4472e+07    0  594 9.7774e+07 5.4472e+07  44.3%     -   11s\n",
      "     0     0 5.4472e+07    0  603 9.7774e+07 5.4472e+07  44.3%     -   11s\n",
      "     0     0 5.4472e+07    0  578 9.7774e+07 5.4472e+07  44.3%     -   11s\n",
      "     0     0 5.4472e+07    0  523 9.7774e+07 5.4472e+07  44.3%     -   12s\n",
      "     0     0 5.4472e+07    0  525 9.7774e+07 5.4472e+07  44.3%     -   12s\n",
      "H    0     0                    9.777086e+07 5.4472e+07  44.3%     -   12s\n",
      "     0     0 5.4472e+07    0  485 9.7771e+07 5.4472e+07  44.3%     -   12s\n",
      "     0     0 5.4472e+07    0  485 9.7771e+07 5.4472e+07  44.3%     -   12s\n",
      "     0     0 5.4473e+07    0  594 9.7771e+07 5.4473e+07  44.3%     -   13s\n",
      "     0     0 5.4473e+07    0  556 9.7771e+07 5.4473e+07  44.3%     -   14s\n",
      "     0     0 5.4473e+07    0  556 9.7771e+07 5.4473e+07  44.3%     -   14s\n",
      "     0     0 5.4473e+07    0  621 9.7771e+07 5.4473e+07  44.3%     -   14s\n",
      "     0     0 5.4473e+07    0  523 9.7771e+07 5.4473e+07  44.3%     -   15s\n",
      "     0     0 5.4473e+07    0  525 9.7771e+07 5.4473e+07  44.3%     -   15s\n",
      "H    0     0                    9.776607e+07 5.4473e+07  44.3%     -   15s\n",
      "     0     0 5.4473e+07    0  617 9.7766e+07 5.4473e+07  44.3%     -   15s\n",
      "     0     0 5.4473e+07    0  555 9.7766e+07 5.4473e+07  44.3%     -   15s\n",
      "     0     0 5.4473e+07    0  578 9.7766e+07 5.4473e+07  44.3%     -   15s\n",
      "     0     0 5.4473e+07    0  642 9.7766e+07 5.4473e+07  44.3%     -   15s\n",
      "     0     0 5.4473e+07    0  570 9.7766e+07 5.4473e+07  44.3%     -   15s\n",
      "     0     0 5.4473e+07    0  568 9.7766e+07 5.4473e+07  44.3%     -   15s\n",
      "     0     0 5.4474e+07    0  364 9.7766e+07 5.4474e+07  44.3%     -   16s\n",
      "     0     0 5.4474e+07    0  469 9.7766e+07 5.4474e+07  44.3%     -   16s\n",
      "     0     0 5.4474e+07    0  494 9.7766e+07 5.4474e+07  44.3%     -   16s\n",
      "     0     0 5.4474e+07    0  471 9.7766e+07 5.4474e+07  44.3%     -   17s\n",
      "     0     0 5.4474e+07    0  412 9.7766e+07 5.4474e+07  44.3%     -   17s\n",
      "     0     0 5.4475e+07    0  490 9.7766e+07 5.4475e+07  44.3%     -   17s\n",
      "     0     0 5.4475e+07    0  493 9.7766e+07 5.4475e+07  44.3%     -   17s\n",
      "     0     0 5.4475e+07    0  444 9.7766e+07 5.4475e+07  44.3%     -   17s\n",
      "     0     0 5.4475e+07    0  446 9.7766e+07 5.4475e+07  44.3%     -   17s\n",
      "     0     0 5.4475e+07    0  391 9.7766e+07 5.4475e+07  44.3%     -   17s\n",
      "     0     0 5.4475e+07    0  396 9.7766e+07 5.4475e+07  44.3%     -   18s\n",
      "     0     0 5.4475e+07    0  445 9.7766e+07 5.4475e+07  44.3%     -   18s\n",
      "     0     0 5.4475e+07    0  426 9.7766e+07 5.4475e+07  44.3%     -   18s\n",
      "     0     0 5.4475e+07    0  436 9.7766e+07 5.4475e+07  44.3%     -   18s\n",
      "     0     0 5.4476e+07    0  454 9.7766e+07 5.4476e+07  44.3%     -   19s\n",
      "     0     0 5.4476e+07    0  460 9.7766e+07 5.4476e+07  44.3%     -   19s\n",
      "     0     0 5.4476e+07    0  465 9.7766e+07 5.4476e+07  44.3%     -   19s\n",
      "     0     0 5.4476e+07    0  495 9.7766e+07 5.4476e+07  44.3%     -   19s\n",
      "     0     0 5.4476e+07    0  496 9.7766e+07 5.4476e+07  44.3%     -   19s\n",
      "     0     0 5.4476e+07    0  518 9.7766e+07 5.4476e+07  44.3%     -   19s\n",
      "     0     0 5.4476e+07    0  519 9.7766e+07 5.4476e+07  44.3%     -   19s\n",
      "     0     0 5.4476e+07    0  539 9.7766e+07 5.4476e+07  44.3%     -   19s\n",
      "     0     0 5.4476e+07    0  544 9.7766e+07 5.4476e+07  44.3%     -   19s\n",
      "     0     0 5.4476e+07    0  565 9.7766e+07 5.4476e+07  44.3%     -   20s\n",
      "     0     0 5.4476e+07    0  564 9.7766e+07 5.4476e+07  44.3%     -   20s\n",
      "     0     0 5.4476e+07    0  499 9.7766e+07 5.4476e+07  44.3%     -   20s\n",
      "     0     0 5.4476e+07    0  502 9.7766e+07 5.4476e+07  44.3%     -   20s\n",
      "     0     0 5.4476e+07    0  552 9.7766e+07 5.4476e+07  44.3%     -   20s\n",
      "     0     0 5.4476e+07    0  524 9.7766e+07 5.4476e+07  44.3%     -   21s\n",
      "H    0     0                    9.776277e+07 5.4476e+07  44.3%     -   21s\n",
      "     0     2 5.4476e+07    0  518 9.7763e+07 5.4476e+07  44.3%     -   22s\n"
     ]
    },
    {
     "name": "stdout",
     "output_type": "stream",
     "text": [
      "    37    45 5.4480e+07    8  497 9.7763e+07 5.4476e+07  44.3%   657   25s\n",
      "   231   239 5.4535e+07   41  180 9.7763e+07 5.4476e+07  44.3%   305   30s\n",
      "   499   459 7.0279e+07   73   58 9.7763e+07 5.4476e+07  44.3%   242   35s\n",
      "  1042  1075 8.1420e+07  129  120 9.7763e+07 5.4476e+07  44.3%   184   40s\n",
      "  1824  1695 5.4479e+07    7  350 9.7763e+07 5.4478e+07  44.3%   142   45s\n",
      "  2289  2137 5.4491e+07   16  332 9.7763e+07 5.4478e+07  44.3%   135   53s\n",
      "  2453  2361 5.4495e+07   19  291 9.7763e+07 5.4478e+07  44.3%   135   55s\n",
      "H 2824  2571                    9.776036e+07 5.4478e+07  44.3%   131   57s\n",
      "  2845  2572 8.8878e+07  245  524 9.7760e+07 5.4478e+07  44.3%   133   72s\n",
      "  2848  2574 6.3393e+07   45  341 9.7760e+07 5.4478e+07  44.3%   133   75s\n",
      "  2859  2581 5.4484e+07   14  556 9.7760e+07 5.4482e+07  44.3%   132   80s\n",
      "  2866  2586 8.7709e+07  173  472 9.7760e+07 5.4493e+07  44.3%   132   85s\n",
      "  2879  2595 8.5231e+07  142  423 9.7760e+07 5.4501e+07  44.3%   131   90s\n",
      "  2894  2605 8.0949e+07  159  487 9.7760e+07 5.4505e+07  44.2%   131   95s\n",
      "  2906  2613 7.1489e+07  102  679 9.7760e+07 5.4510e+07  44.2%   130  100s\n",
      "H 2910  2483                    9.775922e+07 5.4510e+07  44.2%   130  102s\n",
      "H 2912  2359                    9.775903e+07 5.4512e+07  44.2%   130  102s\n",
      "  2917  2362 9.6793e+07  307  630 9.7759e+07 5.4513e+07  44.2%   130  105s\n",
      "  2933  2373 9.2434e+07  202  665 9.7759e+07 5.4515e+07  44.2%   129  110s\n",
      "  2943  2379 7.4450e+07  131  548 9.7759e+07 5.4518e+07  44.2%   128  116s\n",
      "  2955  2387 7.9194e+07  115  504 9.7759e+07 5.4521e+07  44.2%   128  120s\n",
      "  2966  2395 8.7709e+07  173  629 9.7759e+07 5.4523e+07  44.2%   127  125s\n",
      "  2973  2399 7.0625e+07   90  587 9.7759e+07 5.4525e+07  44.2%   127  130s\n",
      "  2983  2406 7.1396e+07   85  570 9.7759e+07 5.4527e+07  44.2%   127  135s\n",
      "  2993  2413 7.8255e+07  131  552 9.7759e+07 5.4529e+07  44.2%   126  140s\n",
      "  3001  2418 5.4530e+07   25  683 9.7759e+07 5.4530e+07  44.2%   126  145s\n",
      "  3010  2424 6.1239e+07   52  610 9.7759e+07 5.4530e+07  44.2%   126  150s\n",
      "  3018  2429 5.4531e+07   28  619 9.7759e+07 5.4531e+07  44.2%   125  155s\n",
      "  3027  2435 7.5829e+07  110  636 9.7759e+07 5.4532e+07  44.2%   125  160s\n",
      "H 3029  2312                    9.775803e+07 5.4532e+07  44.2%   125  161s\n",
      "  3037  2317 5.4532e+07   24  650 9.7758e+07 5.4532e+07  44.2%   124  166s\n",
      "  3044  2322 8.2191e+07  139  682 9.7758e+07 5.4533e+07  44.2%   124  171s\n",
      "  3050  2326 6.8604e+07   96  691 9.7758e+07 5.4533e+07  44.2%   124  175s\n",
      "  3057  2330 8.6678e+07  186  594 9.7758e+07 5.4533e+07  44.2%   124  180s\n",
      "  3067  2337 7.4855e+07  110  634 9.7758e+07 5.4534e+07  44.2%   123  185s\n",
      "  3072  2342 7.8236e+07  100  524 9.7758e+07 5.4534e+07  44.2%   191  190s\n",
      "  3077  2345 9.6796e+07  215  651 9.7758e+07 5.4534e+07  44.2%   191  196s\n",
      "  3080  2347 6.8600e+07   96  610 9.7758e+07 5.4534e+07  44.2%   191  200s\n",
      "  3085  2351 8.8542e+07  124  613 9.7758e+07 5.4534e+07  44.2%   191  205s\n",
      "  3089  2353 8.5343e+07  150  724 9.7758e+07 5.4534e+07  44.2%   190  210s\n",
      "  3094  2357 8.0949e+07  159  809 9.7758e+07 5.4534e+07  44.2%   190  215s\n",
      "  3098  2359 8.5869e+07  169  764 9.7758e+07 5.4534e+07  44.2%   190  220s\n",
      "  3102  2362 6.3404e+07   63  658 9.7758e+07 5.4537e+07  44.2%   190  226s\n",
      "  3112  2369 5.4538e+07   38  713 9.7758e+07 5.4538e+07  44.2%   189  232s\n",
      "  3120  2374 8.5806e+07  162  762 9.7758e+07 5.4538e+07  44.2%   188  236s\n",
      "  3128  2379 6.6031e+07   67  698 9.7758e+07 5.4539e+07  44.2%   188  240s\n",
      "  3135  2384 9.2454e+07  201  725 9.7758e+07 5.4539e+07  44.2%   188  246s\n",
      "  3142  2389 8.8008e+07  227  692 9.7758e+07 5.4540e+07  44.2%   187  250s\n",
      "  3148  2393 6.3393e+07   45  606 9.7758e+07 5.4540e+07  44.2%   187  255s\n",
      "  3157  2399 8.6678e+07  186  536 9.7758e+07 5.4541e+07  44.2%   186  260s\n",
      "  3165  2404 9.6946e+07  230  651 9.7758e+07 5.4541e+07  44.2%   186  265s\n",
      "  3172  2409 7.8236e+07  100  691 9.7758e+07 5.4541e+07  44.2%   185  271s\n",
      "  3181  2415 9.4069e+07  258  599 9.7758e+07 5.4542e+07  44.2%   185  276s\n",
      "  3186  2418 6.3390e+07   48  562 9.7758e+07 5.4542e+07  44.2%   185  281s\n",
      "  3193  2423 7.8255e+07  131  624 9.7758e+07 5.4542e+07  44.2%   184  286s\n",
      "  3200  2427 9.4098e+07  156  661 9.7758e+07 5.4543e+07  44.2%   184  291s\n",
      "  3209  2433 7.3402e+07  120  743 9.7758e+07 5.4543e+07  44.2%   183  295s\n",
      "  3216  2438 9.1128e+07  176  705 9.7758e+07 5.4543e+07  44.2%   183  301s\n",
      "  3221  2441 8.0469e+07  151  554 9.7758e+07 5.4545e+07  44.2%   183  305s\n",
      "  3229  2447 5.4545e+07   16  695 9.7758e+07 5.4545e+07  44.2%   182  310s\n",
      "  3236  2451 9.1633e+07  175  691 9.7758e+07 5.4546e+07  44.2%   182  315s\n",
      "  3245  2457 8.8878e+07  245  795 9.7758e+07 5.4546e+07  44.2%   181  320s\n",
      "  3252  2462 7.5454e+07  139  676 9.7758e+07 5.4546e+07  44.2%   181  325s\n",
      "  3259  2467 5.4547e+07   14  755 9.7758e+07 5.4547e+07  44.2%   180  330s\n",
      "  3265  2471 9.6946e+07  230  717 9.7758e+07 5.4547e+07  44.2%   180  335s\n",
      "  3271  2476 5.4547e+07   21   40 9.7758e+07 5.4547e+07  44.2%   240  340s\n",
      "  3275  2479 8.1400e+07  128  610 9.7758e+07 5.4547e+07  44.2%   240  345s\n",
      "  3281  2483 9.4069e+07  258  561 9.7758e+07 5.4547e+07  44.2%   239  351s\n",
      "  3284  2485 8.5841e+07  165  753 9.7758e+07 5.4547e+07  44.2%   239  356s\n",
      "  3287  2487 8.3755e+07  124  696 9.7758e+07 5.4547e+07  44.2%   239  360s\n",
      "  3294  2492 8.0949e+07  159  707 9.7758e+07 5.4547e+07  44.2%   239  365s\n",
      "  3298  2494 8.5869e+07  169  798 9.7758e+07 5.4547e+07  44.2%   238  370s\n",
      "  3303  2498 7.8173e+07  132  708 9.7758e+07 5.4547e+07  44.2%   238  375s\n",
      "  3308  2501 9.0795e+07  215  625 9.7758e+07 5.4547e+07  44.2%   238  381s\n",
      "  3313  2504 7.3402e+07  120  539 9.7758e+07 5.4548e+07  44.2%   237  385s\n",
      "  3320  2509 8.5806e+07  162  775 9.7758e+07 5.4548e+07  44.2%   237  390s\n",
      "  3331  2516 8.9920e+07  275  693 9.7758e+07 5.4549e+07  44.2%   236  395s\n",
      "  3339  2522 7.2233e+07   89  769 9.7758e+07 5.4550e+07  44.2%   235  400s\n",
      "  3346  2526 5.5596e+07   38  638 9.7758e+07 5.4550e+07  44.2%   235  405s\n",
      "  3351  2530 5.6996e+07   38  570 9.7758e+07 5.4550e+07  44.2%   234  410s\n",
      "  3355  2532 7.9194e+07  115  574 9.7758e+07 5.4550e+07  44.2%   234  415s\n",
      "  3362  2537 7.8213e+07  104  645 9.7758e+07 5.4551e+07  44.2%   234  429s\n",
      "  3363  2538 5.4551e+07   11  644 9.7758e+07 5.4551e+07  44.2%   234  430s\n",
      "  3365  2542 5.4551e+07   31  725 9.7758e+07 5.4551e+07  44.2%   156  459s\n",
      "  3367  2545 5.4551e+07   32  663 9.7758e+07 5.4551e+07  44.2%   157  491s\n",
      "  3371  2550 5.4552e+07   33  666 9.7758e+07 5.4552e+07  44.2%   160  502s\n",
      "  3377  2554 5.4553e+07   34  706 9.7758e+07 5.4552e+07  44.2%   165  510s\n",
      "  3383  2558 5.4555e+07   34  608 9.7758e+07 5.4553e+07  44.2%   178  515s\n",
      "  3395  2571 5.4555e+07   35  504 9.7758e+07 5.4553e+07  44.2%   184  522s\n",
      "  3406  2576 5.4555e+07   36  579 9.7758e+07 5.4553e+07  44.2%   188  526s\n",
      "  3424  2590 5.4555e+07   38  572 9.7758e+07 5.4553e+07  44.2%   193  532s\n",
      "  3446  2605 5.4555e+07   40  633 9.7758e+07 5.4553e+07  44.2%   201  537s\n",
      "  3457  2614 5.4555e+07   41  638 9.7758e+07 5.4553e+07  44.2%   204  540s\n",
      "  3482  2632 5.4556e+07   43  662 9.7758e+07 5.4553e+07  44.2%   214  545s\n",
      "  3496  2652 5.4556e+07   44  709 9.7758e+07 5.4553e+07  44.2%   216  551s\n",
      "  3521  2663 5.4557e+07   46  457 9.7758e+07 5.4553e+07  44.2%   225  559s\n",
      "  3540  2715 5.4559e+07   47  228 9.7758e+07 5.4553e+07  44.2%   231  568s\n",
      "  3598  2760 5.4567e+07   52  177 9.7758e+07 5.4553e+07  44.2%   250  575s\n",
      "  3663  2788 5.4568e+07   55  114 9.7758e+07 5.4553e+07  44.2%   262  582s\n",
      "  3712  2855 5.4596e+07   59  260 9.7758e+07 5.4553e+07  44.2%   273  587s\n",
      "  3796  2842 5.4606e+07   65  182 9.7758e+07 5.4553e+07  44.2%   287  593s\n",
      "  3811  2954 5.4581e+07   65   83 9.7758e+07 5.4553e+07  44.2%   288  597s\n",
      "  3928  3048 5.4592e+07   77   98 9.7758e+07 5.4553e+07  44.2%   295  601s\n",
      "  4061  3047 5.4639e+07   91   86 9.7758e+07 5.4553e+07  44.2%   299  605s\n",
      "  4280  3242 5.4645e+07  111   80 9.7758e+07 5.4553e+07  44.2%   300  611s\n",
      "  4372  3344 5.5295e+07  119  118 9.7758e+07 5.4553e+07  44.2%   305  615s\n",
      "  4576  3381 5.7254e+07  130  110 9.7758e+07 5.4553e+07  44.2%   315  623s\n",
      "  4610  3520 5.8349e+07  135  169 9.7758e+07 5.4553e+07  44.2%   317  626s\n",
      "  4760  3645 5.9827e+07  138  171 9.7758e+07 5.4553e+07  44.2%   320  630s\n",
      "  5072  3937 6.1781e+07  155  184 9.7758e+07 5.4553e+07  44.2%   323  635s\n"
     ]
    },
    {
     "name": "stdout",
     "output_type": "stream",
     "text": [
      "  5602  4330 6.5029e+07  184  130 9.7758e+07 5.4553e+07  44.2%   314  642s\n",
      "  5901  4273 6.8625e+07  222  217 9.7758e+07 5.4553e+07  44.2%   308  676s\n",
      "  6331  4614 7.3472e+07  274  223 9.7758e+07 5.4553e+07  44.2%   300  684s\n",
      "  6428  5117 7.9201e+07  314  150 9.7758e+07 5.4553e+07  44.2%   301  687s\n",
      "  6965  5479 8.8085e+07  370  203 9.7758e+07 5.4553e+07  44.2%   288  690s\n",
      "  7569  5691 9.2562e+07  436  103 9.7758e+07 5.4553e+07  44.2%   270  697s\n",
      "  8012  5896 5.4576e+07   37  505 9.7758e+07 5.4553e+07  44.2%   264  701s\n",
      "  8367  5962 5.4576e+07   39  427 9.7758e+07 5.4553e+07  44.2%   260  708s\n",
      "  8647  5992 5.4570e+07   38  428 9.7758e+07 5.4553e+07  44.2%   255  712s\n",
      "  8795  6148 5.4576e+07   38  462 9.7758e+07 5.4554e+07  44.2%   255  717s\n",
      "  9000  6297 5.4554e+07   37  592 9.7758e+07 5.4554e+07  44.2%   254  722s\n",
      "  9217  6455 5.4557e+07   38  521 9.7758e+07 5.4554e+07  44.2%   254  727s\n",
      "  9452  6447 5.5991e+07   39  643 9.7758e+07 5.4554e+07  44.2%   253  734s\n",
      "  9628  6441 5.4555e+07   39  616 9.7758e+07 5.4554e+07  44.2%   253  740s\n",
      "  9681  6476 5.4557e+07   43  665 9.7758e+07 5.4554e+07  44.2%   257  748s\n",
      "  9733  6598 5.4569e+07   47  660 9.7758e+07 5.4554e+07  44.2%   261  753s\n",
      "  9873  6920 5.4618e+07   58  431 9.7758e+07 5.4554e+07  44.2%   266  760s\n",
      " 10247  7444 5.4735e+07   70  303 9.7758e+07 5.4554e+07  44.2%   267  766s\n",
      " 10896  7971 5.4876e+07   88  347 9.7758e+07 5.4554e+07  44.2%   262  773s\n",
      " 11696  8659 5.5053e+07   89  322 9.7758e+07 5.4554e+07  44.2%   253  780s\n",
      " 12476  8894 5.8261e+07  123  467 9.7758e+07 5.4554e+07  44.2%   244  789s\n",
      " 12731 10085 6.1400e+07  131  416 9.7758e+07 5.4554e+07  44.2%   246  803s\n",
      " 13922 11056 8.5639e+07  161  198 9.7758e+07 5.4554e+07  44.2%   242  810s\n",
      " 14904 11670 9.7604e+07  238   28 9.7758e+07 5.4554e+07  44.2%   228  818s\n",
      " 15720 11788 5.4574e+07   39  536 9.7758e+07 5.4555e+07  44.2%   221  825s\n",
      " 15884 11875 5.4577e+07   42  504 9.7758e+07 5.4555e+07  44.2%   223  830s\n",
      " 15971 11961 5.4579e+07   47  429 9.7758e+07 5.4555e+07  44.2%   224  836s\n",
      " 16057 12367 5.4589e+07   60  505 9.7758e+07 5.4555e+07  44.2%   226  842s\n",
      " 16463 12410 5.4711e+07   75  473 9.7758e+07 5.4555e+07  44.2%   226  852s\n",
      " 16533 12652 5.4688e+07   74  561 9.7758e+07 5.4555e+07  44.2%   227  859s\n",
      " 16793 13219 5.5100e+07  100  428 9.7758e+07 5.4555e+07  44.2%   229  869s\n",
      " 17380 13551 5.4561e+07   38  510 9.7758e+07 5.4555e+07  44.2%   229  878s\n",
      " 17757 13855 5.4567e+07   42  416 9.7758e+07 5.4555e+07  44.2%   228  889s\n",
      " 18089 13915 5.4596e+07   46  489 9.7758e+07 5.4555e+07  44.2%   228  897s\n",
      " 18149 14026 5.4622e+07   56  401 9.7758e+07 5.4555e+07  44.2%   233  905s\n",
      " 18260 14393 5.5008e+07   73  503 9.7758e+07 5.4555e+07  44.2%   239  914s\n",
      " 18627 14996 6.1472e+07  131  416 9.7758e+07 5.4555e+07  44.2%   243  923s\n",
      " 19265 15313     cutoff  151      9.7758e+07 5.4556e+07  44.2%   243  936s\n",
      " 19656 15389 5.4582e+07   40  394 9.7758e+07 5.4556e+07  44.2%   244  947s\n",
      " 19732 15751 5.4584e+07   42  461 9.7758e+07 5.4556e+07  44.2%   246  957s\n",
      " 20164 15828 5.4612e+07   50  490 9.7758e+07 5.4556e+07  44.2%   247  966s\n",
      " 20241 16102 5.4625e+07   58  503 9.7758e+07 5.4556e+07  44.2%   252  975s\n",
      " 20515 16372 5.4859e+07   84  448 9.7758e+07 5.4556e+07  44.2%   257  987s\n",
      " 20798 16845 5.5119e+07   88  566 9.7758e+07 5.4556e+07  44.2%   256  999s\n",
      " 21303 17221 6.6654e+07  131  383 9.7758e+07 5.4556e+07  44.2%   256 1012s\n",
      " 21759 17372 5.4580e+07   45  514 9.7758e+07 5.4556e+07  44.2%   259 1023s\n",
      " 21910 17622 5.4638e+07   55  472 9.7758e+07 5.4556e+07  44.2%   264 1035s\n",
      " 22185 17863 5.4654e+07   62  413 9.7758e+07 5.4556e+07  44.2%   265 1047s\n",
      " 22426 18475 5.6284e+07   93  442 9.7758e+07 5.4556e+07  44.2%   269 1060s\n",
      " 23096 19045 5.7085e+07  100  500 9.7758e+07 5.4557e+07  44.2%   268 1079s\n",
      " 23729 19289 5.4606e+07   40  452 9.7758e+07 5.4557e+07  44.2%   266 1092s\n",
      " 23994 19558 5.5144e+07   52  422 9.7758e+07 5.4557e+07  44.2%   270 1106s\n",
      " 24263 20169 5.6613e+07   83  365 9.7758e+07 5.4557e+07  44.2%   276 1120s\n",
      " 24909 20897 6.2226e+07  123  560 9.7758e+07 5.4557e+07  44.2%   276 1135s\n",
      " 25704 20898 5.4591e+07   72  524 9.7758e+07 5.4558e+07  44.2%   275 1248s\n",
      " 25706 20899 5.5342e+07  102   42 9.7758e+07 5.4558e+07  44.2%   275 1250s\n",
      " 25710 20902 9.0197e+07  146  462 9.7758e+07 5.4558e+07  44.2%   275 1255s\n",
      " 25715 20905 7.6850e+07  143  578 9.7758e+07 5.4558e+07  44.2%   275 1260s\n",
      " 25720 20909 8.6120e+07  156  595 9.7758e+07 5.4558e+07  44.2%   275 1265s\n",
      " 25726 20913 5.5238e+07   94  614 9.7758e+07 5.4558e+07  44.2%   275 1270s\n",
      " 25739 20921 6.4191e+07  165  595 9.7758e+07 5.4558e+07  44.2%   275 1277s\n",
      " 25749 20928 9.4697e+07  172  565 9.7758e+07 5.4558e+07  44.2%   275 1281s\n",
      " 25750 20929 5.4972e+07   99  556 9.7758e+07 5.4558e+07  44.2%   275 1285s\n",
      " 25757 20933 5.4778e+07   75  586 9.7758e+07 5.4558e+07  44.2%   275 1291s\n",
      " 25761 20936 9.6538e+07  152  532 9.7758e+07 5.4558e+07  44.2%   275 1295s\n",
      " 25770 20942 7.9581e+07  147  503 9.7758e+07 5.4558e+07  44.2%   274 1303s\n",
      " 25777 20947 7.4831e+07  289  572 9.7758e+07 5.4558e+07  44.2%   274 1307s\n",
      " 25778 20947 5.7825e+07   73  529 9.7758e+07 5.4559e+07  44.2%   274 1311s\n",
      " 25787 20953 6.5520e+07  143  453 9.7758e+07 5.4561e+07  44.2%   274 1315s\n",
      " 25792 20957 6.9548e+07  244  527 9.7758e+07 5.4563e+07  44.2%   274 1320s\n",
      " 25798 20961 9.5344e+07  233  612 9.7758e+07 5.4564e+07  44.2%   274 1326s\n",
      " 25807 20967 9.7512e+07  273  529 9.7758e+07 5.4566e+07  44.2%   274 1331s\n",
      " 25811 20969 6.1644e+07  126  590 9.7758e+07 5.4568e+07  44.2%   274 1335s\n",
      " 25816 20973 9.6612e+07  148  587 9.7758e+07 5.4569e+07  44.2%   274 1341s\n",
      " 25825 20979 8.5460e+07  134  607 9.7758e+07 5.4570e+07  44.2%   274 1345s\n",
      " 25829 20981 9.5219e+07  197  595 9.7758e+07 5.4572e+07  44.2%   274 1350s\n",
      " 25837 20987 6.5921e+07  170  466 9.7758e+07 5.4573e+07  44.2%   274 1356s\n",
      " 25843 20991 9.3728e+07  177  567 9.7758e+07 5.4575e+07  44.2%   274 1360s\n",
      " 25848 20994 8.9714e+07  453  618 9.7758e+07 5.4578e+07  44.2%   274 1365s\n",
      " 25860 21002 9.1962e+07  145  631 9.7758e+07 5.4580e+07  44.2%   273 1372s\n",
      " 25871 21009 7.9037e+07  147  546 9.7758e+07 5.4581e+07  44.2%   273 1377s\n",
      " 25872 21010 8.0195e+07  228  554 9.7758e+07 5.4582e+07  44.2%   273 1380s\n",
      " 25882 21017 9.7394e+07  173  496 9.7758e+07 5.4586e+07  44.2%   273 1388s\n",
      " 25888 21021 9.3184e+07  166  621 9.7758e+07 5.4588e+07  44.2%   273 1390s\n",
      " 25895 21025 9.1837e+07  273  486 9.7758e+07 5.4589e+07  44.2%   273 1395s\n",
      " 25905 21032 8.7239e+07  136  588 9.7758e+07 5.4592e+07  44.2%   273 1402s\n",
      " 25913 21037 5.4608e+07   62  650 9.7758e+07 5.4593e+07  44.2%   273 1405s\n",
      " 25918 21041 8.5959e+07  143  517 9.7758e+07 5.4594e+07  44.2%   273 1410s\n",
      " 25927 21047 5.9773e+07  141  593 9.7758e+07 5.4597e+07  44.2%   273 1417s\n",
      " 25933 21051 6.8428e+07  131  523 9.7758e+07 5.4597e+07  44.2%   273 1420s\n",
      " 25940 21055 7.4022e+07  212  521 9.7758e+07 5.4600e+07  44.1%   273 1425s\n",
      " 25946 21059 9.1875e+07  243  592 9.7758e+07 5.4604e+07  44.1%   273 1430s\n",
      " 25953 21064 5.4654e+07   34  527 9.7758e+07 5.4606e+07  44.1%   273 1435s\n",
      " 25963 21071 6.0269e+07  161  534 9.7758e+07 5.4608e+07  44.1%   272 1441s\n",
      " 25974 21078 9.3908e+07  138  593 9.7758e+07 5.4610e+07  44.1%   272 1445s\n",
      " 25980 21082 5.4611e+07   45  575 9.7758e+07 5.4611e+07  44.1%   272 1450s\n",
      " 25988 21087 9.3184e+07  166  580 9.7758e+07 5.4614e+07  44.1%   272 1455s\n",
      " 25992 21090 6.9548e+07  244  538 9.7758e+07 5.4615e+07  44.1%   272 1460s\n",
      " 26001 21096 9.5751e+07  232  484 9.7758e+07 5.4616e+07  44.1%   272 1465s\n",
      " 26010 21102 9.0197e+07  146  494 9.7758e+07 5.4616e+07  44.1%   272 1472s\n",
      " 26016 21106 9.6612e+07  148  485 9.7758e+07 5.4617e+07  44.1%   272 1477s\n",
      " 26022 21110 8.6816e+07  423  504 9.7758e+07 5.4618e+07  44.1%   272 1480s\n",
      " 26028 21114 9.7581e+07  229  612 9.7758e+07 5.4618e+07  44.1%   272 1485s\n",
      " 26032 21117 6.3677e+07  130  528 9.7758e+07 5.4619e+07  44.1%   272 1492s\n",
      " 26045 21125 7.2642e+07  135  588 9.7758e+07 5.4620e+07  44.1%   272 1495s\n",
      " 26055 21132 8.4805e+07  149  622 9.7758e+07 5.4622e+07  44.1%   271 1501s\n",
      " 26060 21135 9.1962e+07  145  588 9.7758e+07 5.4622e+07  44.1%   271 1506s\n",
      " 26066 21139 5.7591e+07  110  635 9.7758e+07 5.4623e+07  44.1%   271 1511s\n",
      " 26070 21142 7.9581e+07  147  626 9.7758e+07 5.4624e+07  44.1%   271 1515s\n",
      " 26075 21145 6.0660e+07  115  617 9.7758e+07 5.4624e+07  44.1%   271 1520s\n"
     ]
    },
    {
     "name": "stdout",
     "output_type": "stream",
     "text": [
      " 26081 21149 6.3006e+07  147  636 9.7758e+07 5.4625e+07  44.1%   271 1525s\n",
      " 26086 21153 5.7618e+07  113  604 9.7758e+07 5.4625e+07  44.1%   271 1530s\n",
      " 26091 21156 9.5649e+07  160  585 9.7758e+07 5.4625e+07  44.1%   271 1535s\n",
      " 26097 21160 5.9770e+07  118  655 9.7758e+07 5.4626e+07  44.1%   271 1540s\n",
      " 26106 21166 5.5342e+07  102  508 9.7758e+07 5.4626e+07  44.1%   271 1545s\n",
      " 26111 21169 6.1644e+07  126  517 9.7758e+07 5.4627e+07  44.1%   271 1550s\n",
      " 26119 21175 7.8746e+07  220  541 9.7758e+07 5.4627e+07  44.1%   271 1556s\n",
      " 26125 21179 8.5460e+07  134  542 9.7758e+07 5.4627e+07  44.1%   271 1561s\n",
      " 26130 21182 5.9483e+07  124  526 9.7758e+07 5.4628e+07  44.1%   271 1565s\n",
      " 26134 21185 5.6055e+07   86  466 9.7758e+07 5.4628e+07  44.1%   271 1570s\n",
      " 26142 21190 8.2033e+07  183  509 9.7758e+07 5.4629e+07  44.1%   271 1576s\n",
      " 26151 21196 6.5049e+07  186  439 9.7758e+07 5.4630e+07  44.1%   270 1582s\n",
      " 26162 21203 5.7379e+07  127  607 9.7758e+07 5.4630e+07  44.1%   270 1585s\n",
      " 26174 21211 9.3908e+07  138  604 9.7758e+07 5.4632e+07  44.1%   270 1591s\n",
      " 26177 21213 7.4831e+07  289  580 9.7758e+07 5.4634e+07  44.1%   270 1595s\n",
      " 26186 21219 5.7618e+07  113  465 9.7758e+07 5.4636e+07  44.1%   270 1601s\n",
      " 26197 21227 5.9770e+07  118  556 9.7758e+07 5.4638e+07  44.1%   270 1608s\n",
      " 26206 21233 5.5342e+07  102  522 9.7758e+07 5.4639e+07  44.1%   270 1610s\n",
      " 26212 21237 9.7531e+07  138  508 9.7758e+07 5.4643e+07  44.1%   270 1615s\n",
      " 26220 21242 8.6120e+07  156  526 9.7758e+07 5.4644e+07  44.1%   270 1620s\n",
      " 26226 21246 5.5238e+07   94  512 9.7758e+07 5.4646e+07  44.1%   270 1625s\n",
      " 26237 21253 6.5921e+07  170  528 9.7758e+07 5.4647e+07  44.1%   270 1630s\n",
      " 26249 21261 9.4697e+07  172  651 9.7758e+07 5.4649e+07  44.1%   269 1635s\n",
      " 26256 21266 6.2999e+07  120  560 9.7758e+07 5.4651e+07  44.1%   269 1640s\n",
      " 26262 21270 5.7379e+07  127  523 9.7758e+07 5.4653e+07  44.1%   269 1645s\n",
      " 26271 21276 7.9037e+07  147  401 9.7758e+07 5.4655e+07  44.1%   269 1650s\n",
      " 26280 21282 5.4656e+07   45  505 9.7758e+07 5.4656e+07  44.1%   269 1656s\n",
      " 26289 21288 5.5589e+07   97  451 9.7758e+07 5.4658e+07  44.1%   269 1662s\n",
      " 26295 21292 9.1837e+07  273  456 9.7758e+07 5.4659e+07  44.1%   269 1666s\n",
      " 26301 21296 9.5751e+07  232  424 9.7758e+07 5.4660e+07  44.1%   269 1671s\n",
      " 26306 21299 5.5342e+07  102  462 9.7758e+07 5.4661e+07  44.1%   269 1675s\n",
      " 26314 21305 8.9550e+07  153  487 9.7758e+07 5.4661e+07  44.1%   269 1680s\n",
      " 26321 21309 8.7577e+07  158  543 9.7758e+07 5.4662e+07  44.1%   269 1685s\n",
      " 26330 21315 5.9483e+07  124  540 9.7758e+07 5.4663e+07  44.1%   269 1692s\n",
      " 26338 21321 7.0456e+07  224  531 9.7758e+07 5.4664e+07  44.1%   269 1695s\n",
      " 26348 21327 8.9714e+07  453  589 9.7758e+07 5.4667e+07  44.1%   268 1701s\n",
      " 26355 21332 8.4805e+07  149  569 9.7758e+07 5.4668e+07  44.1%   268 1706s\n",
      " 26363 21337 6.0269e+07  161  474 9.7758e+07 5.4669e+07  44.1%   268 1710s\n",
      " 26368 21341 9.4645e+07  157  492 9.7758e+07 5.4671e+07  44.1%   268 1715s\n",
      " 26374 21345 9.3908e+07  138  467 9.7758e+07 5.4672e+07  44.1%   268 1720s\n",
      " 26388 21354 9.3184e+07  166  413 9.7758e+07 5.4675e+07  44.1%   268 1726s\n",
      " 26396 21359 7.7810e+07  144  368 9.7758e+07 5.4675e+07  44.1%   268 1731s\n",
      " 26407 21367 9.7512e+07  273  467 9.7758e+07 5.4678e+07  44.1%   268 1737s\n",
      " 26423 21377 6.5012e+07  135  455 9.7758e+07 5.4680e+07  44.1%   268 1740s\n",
      " 26426 21379 5.5238e+07   94  506 9.7758e+07 5.4680e+07  44.1%   268 1745s\n",
      " 26435 21385 9.6529e+07  150  571 9.7758e+07 5.4682e+07  44.1%   268 1750s\n",
      " 26440 21389 7.4022e+07  212  499 9.7758e+07 5.4683e+07  44.1%   267 1755s\n",
      " 26444 21391 9.0077e+07  142  463 9.7758e+07 5.4684e+07  44.1%   267 1760s\n",
      " 26456 21399 6.2999e+07  120  413 9.7758e+07 5.4686e+07  44.1%   267 1767s\n",
      " 26461 21403 9.6538e+07  152  409 9.7758e+07 5.4687e+07  44.1%   267 1772s\n",
      " 26472 21410 8.0195e+07  228  466 9.7758e+07 5.4688e+07  44.1%   267 1776s\n",
      " 26475 21412 6.0660e+07  115  427 9.7758e+07 5.4689e+07  44.1%   267 1780s\n",
      " 26480 21415 5.4690e+07   45  393 9.7758e+07 5.4690e+07  44.1%   267 1785s\n",
      " 26488 21421 9.3184e+07  166  402 9.7758e+07 5.4691e+07  44.1%   267 1790s\n",
      " 26498 21427 9.5344e+07  233  403 9.7758e+07 5.4693e+07  44.1%   267 1795s\n",
      "\n",
      "Cutting planes:\n",
      "  Gomory: 1\n",
      "  Cover: 30\n",
      "  Implied bound: 21\n",
      "  Projected implied bound: 21\n",
      "  MIR: 162\n",
      "  Flow cover: 744\n",
      "  RLT: 15\n",
      "  Relax-and-lift: 48\n",
      "\n",
      "Explored 26510 nodes (8251145 simplex iterations) in 1800.10 seconds\n",
      "Thread count was 12 (of 12 available processors)\n",
      "\n",
      "Solution count 10: 9.7758e+07 9.7759e+07 9.77592e+07 ... 9.81897e+07\n",
      "\n",
      "Time limit reached\n",
      "Best objective 9.775803333800e+07, best bound 5.469421330317e+07, gap 44.0514%\n"
     ]
    },
    {
     "data": {
      "text/plain": [
       "97758033.338"
      ]
     },
     "execution_count": 15,
     "metadata": {},
     "output_type": "execute_result"
    }
   ],
   "source": [
    "m1.addConstr(MAX <= m1.objval)\n",
    "m1.setObjective(o*sum((S[j] + M[j] + L[j]) for j in sites)\n",
    "                + v*sum(A[i,j]*p[i] for i in zipcodes for j in sites)\n",
    "                + sum(r*X[j,t] + h*I[j,t] + f*U[j,t] for j in sites for t in days))\n",
    "#m1.Params.MIPGap = 0.1\n",
    "m1.Params.TimeLimit = 40*60\n",
    "m1.optimize()\n",
    "m1.objval"
   ]
  },
  {
   "cell_type": "code",
   "execution_count": 16,
   "metadata": {},
   "outputs": [
    {
     "name": "stdout",
     "output_type": "stream",
     "text": [
      "The minimum max distance is found using a budget of 97758033.338\n"
     ]
    }
   ],
   "source": [
    "print(\"The minimum max distance is found using a budget of\", m1.objval)"
   ]
  },
  {
   "cell_type": "markdown",
   "metadata": {},
   "source": [
    "The minimum max distance is found using a budget of $98,677,864.35"
   ]
  },
  {
   "cell_type": "code",
   "execution_count": 34,
   "metadata": {},
   "outputs": [
    {
     "name": "stdout",
     "output_type": "stream",
     "text": [
      "6\n"
     ]
    }
   ],
   "source": [
    "num_sites = 0\n",
    "utilized = []\n",
    "for j in sites:\n",
    "    if (S[j].x + M[j].x + L[j].x) > 0:\n",
    "        num_sites += 1\n",
    "        utilized.append(j)\n",
    "print(num_sites)"
   ]
  },
  {
   "cell_type": "code",
   "execution_count": 33,
   "metadata": {
    "scrolled": true
   },
   "outputs": [
    {
     "name": "stdout",
     "output_type": "stream",
     "text": [
      "Site: 1 \t 1.0 \t 1.0\n",
      "Site: 2 \t -0.0 \t -0.0\n",
      "Site: 3 \t 1.0 \t 1.0\n",
      "Site: 4 \t -0.0 \t -0.0\n",
      "Site: 5 \t -0.0 \t -0.0\n",
      "Site: 6 \t -0.0 \t -0.0\n",
      "Site: 7 \t -0.0 \t -0.0\n",
      "Site: 8 \t -0.0 \t -0.0\n",
      "Site: 9 \t -0.0 \t -0.0\n",
      "Site: 10 \t 1.0 \t 1.0\n",
      "Site: 11 \t -0.0 \t -0.0\n",
      "Site: 12 \t -0.0 \t -0.0\n",
      "Site: 13 \t -0.0 \t -0.0\n",
      "Site: 14 \t -0.0 \t -0.0\n",
      "Site: 15 \t 1.0 \t 1.0\n",
      "Site: 16 \t -0.0 \t -0.0\n",
      "Site: 17 \t -0.0 \t -0.0\n",
      "Site: 18 \t -0.0 \t -0.0\n",
      "Site: 19 \t -0.0 \t -0.0\n",
      "Site: 20 \t -0.0 \t -0.0\n",
      "Site: 21 \t -0.0 \t -0.0\n",
      "Site: 22 \t -0.0 \t -0.0\n",
      "Site: 23 \t 0.0 \t 0.0\n",
      "Site: 24 \t -0.0 \t -0.0\n",
      "Site: 25 \t 0.0 \t 0.0\n",
      "Site: 26 \t -0.0 \t -0.0\n",
      "Site: 27 \t -0.0 \t -0.0\n",
      "Site: 28 \t -0.0 \t -0.0\n",
      "Site: 29 \t -0.0 \t -0.0\n",
      "Site: 30 \t -0.0 \t -0.0\n",
      "Site: 31 \t -0.0 \t -0.0\n",
      "Site: 32 \t 0.0 \t 0.0\n",
      "Site: 33 \t 0.0 \t 0.0\n",
      "Site: 34 \t -0.0 \t -0.0\n",
      "Site: 35 \t -0.0 \t -0.0\n",
      "Site: 36 \t -0.0 \t -0.0\n",
      "Site: 37 \t -0.0 \t -0.0\n",
      "Site: 38 \t -0.0 \t -0.0\n",
      "Site: 39 \t 1.0 \t 1.0\n",
      "Site: 40 \t -0.0 \t -0.0\n",
      "Site: 41 \t 1.0 \t 1.0\n",
      "Site: 42 \t -0.0 \t -0.0\n",
      "Site: 43 \t -0.0 \t -0.0\n",
      "Site: 44 \t -0.0 \t -0.0\n",
      "Site: 45 \t -0.0 \t -0.0\n",
      "Site: 46 \t -0.0 \t -0.0\n",
      "Site: 47 \t -0.0 \t -0.0\n"
     ]
    }
   ],
   "source": [
    "for j in sites:\n",
    "    print(\"Site:\", j+1, '\\t', L[j].x, '\\t', S[j].x + M[j].x + L[j].x)"
   ]
  },
  {
   "cell_type": "code",
   "execution_count": 19,
   "metadata": {},
   "outputs": [],
   "source": [
    "max_ts = []\n",
    "for j in sites:\n",
    "    max_t = 0\n",
    "    for t in days:\n",
    "        if np.allclose(I[j,t].x,0):\n",
    "            max_t = t + 1\n",
    "            max_ts.append(max_t)\n",
    "            break\n",
    "            "
   ]
  },
  {
   "cell_type": "code",
   "execution_count": 20,
   "metadata": {},
   "outputs": [
    {
     "data": {
      "image/png": "[encoded data removed]",
      "text/plain": [
       "<Figure size 432x288 with 1 Axes>"
      ]
     },
     "metadata": {
      "needs_background": "light"
     },
     "output_type": "display_data"
    }
   ],
   "source": [
    "plt.hist(max_ts)\n",
    "plt.title(\"The Distribution of the Number of days to administer vaccine \")\n",
    "plt.show()"
   ]
  },
  {
   "cell_type": "code",
   "execution_count": 21,
   "metadata": {},
   "outputs": [],
   "source": [
    "days_not_serving = []\n",
    "days_serving = []\n",
    "for j in sites:\n",
    "    num_days = 0\n",
    "    serve = 0\n",
    "    for t in days:\n",
    "        if np.allclose(X[j,t].x, 0) and np.allclose(I[j,t].x, 0) is False:\n",
    "            num_days += 1\n",
    "        if np.allclose(X[j,t].x, 0) is False:\n",
    "            serve +=1 \n",
    "    days_not_serving.append(num_days)\n",
    "    days_serving.append(serve)\n",
    "    "
   ]
  },
  {
   "cell_type": "code",
   "execution_count": 22,
   "metadata": {
    "scrolled": true
   },
   "outputs": [
    {
     "data": {
      "image/png": "[encoded data removed]",
      "text/plain": [
       "<Figure size 432x288 with 1 Axes>"
      ]
     },
     "metadata": {
      "needs_background": "light"
     },
     "output_type": "display_data"
    }
   ],
   "source": [
    "plt.hist(days_not_serving)\n",
    "plt.title(\"Distribution of days POD is Idle\")\n",
    "plt.show()"
   ]
  },
  {
   "cell_type": "code",
   "execution_count": 23,
   "metadata": {},
   "outputs": [
    {
     "data": {
      "image/png": "[encoded data removed]",
      "text/plain": [
       "<Figure size 432x288 with 1 Axes>"
      ]
     },
     "metadata": {
      "needs_background": "light"
     },
     "output_type": "display_data"
    }
   ],
   "source": [
    "plt.hist(days_serving)\n",
    "plt.title(\"Distribution of days actually vaccinating\")\n",
    "plt.show()"
   ]
  },
  {
   "cell_type": "code",
   "execution_count": 45,
   "metadata": {},
   "outputs": [],
   "source": [
    "utilized = []\n",
    "for j in sites:\n",
    "    if (S[j].x + M[j].x + L[j].x) > 0:\n",
    "        utilized.append(j)"
   ]
  },
  {
   "cell_type": "code",
   "execution_count": 47,
   "metadata": {},
   "outputs": [
    {
     "name": "stdout",
     "output_type": "stream",
     "text": [
      "6\n"
     ]
    },
    {
     "data": {
      "text/plain": [
       "Text(0.5, 1.0, 'Neighborhoods (blue) vs optimal POD sites (red)')"
      ]
     },
     "execution_count": 47,
     "metadata": {},
     "output_type": "execute_result"
    },
    {
     "data": {
      "image/png": "[encoded data removed]",
      "text/plain": [
       "<Figure size 432x288 with 1 Axes>"
      ]
     },
     "metadata": {
      "needs_background": "light"
     },
     "output_type": "display_data"
    }
   ],
   "source": [
    "print(num_sites)\n",
    "plt.scatter(neighborhood_longs, neighborhood_lats, marker='o', c = 'blue')\n",
    "plt.scatter(np.take(POD_longs, utilized), np.take(POD_lats, utilized), marker='x', c = 'red')\n",
    "plt.xlabel('Longitude')\n",
    "plt.ylabel('Latitude')\n",
    "plt.title('Neighborhoods (blue) vs optimal POD sites (red)')"
   ]
  },
  {
   "cell_type": "code",
   "execution_count": 25,
   "metadata": {
    "scrolled": true
   },
   "outputs": [],
   "source": [
    "vaccinations = []\n",
    "cum_vaccinations = []\n",
    "cum_vaccinated = 0\n",
    "for t in days:\n",
    "    vaccinated = sum(X[j,t].x*(e[0]*S[j].x + e[1]*M[j].x + e[2]*L[j].x) for j in sites)\n",
    "    cum_vaccinated += vaccinated\n",
    "    vaccinations.append(vaccinated)\n",
    "    cum_vaccinations.append(cum_vaccinated)"
   ]
  },
  {
   "cell_type": "code",
   "execution_count": 26,
   "metadata": {},
   "outputs": [
    {
     "data": {
      "image/png": "[encoded data removed]",
      "text/plain": [
       "<Figure size 432x288 with 1 Axes>"
      ]
     },
     "metadata": {
      "needs_background": "light"
     },
     "output_type": "display_data"
    }
   ],
   "source": [
    "timeline = np.arange(100)+1\n",
    "plt.bar(timeline[:18], vaccinations[:18])\n",
    "plt.ylabel(\"Number of people vaccinated\")\n",
    "plt.xlabel(\"Number of days\")\n",
    "plt.title(\"Number of people vaccinated every day\")\n",
    "plt.show()"
   ]
  },
  {
   "cell_type": "code",
   "execution_count": 27,
   "metadata": {},
   "outputs": [
    {
     "data": {
      "image/png": "[encoded data removed]",
      "text/plain": [
       "<Figure size 432x288 with 1 Axes>"
      ]
     },
     "metadata": {
      "needs_background": "light"
     },
     "output_type": "display_data"
    }
   ],
   "source": [
    "timeline = np.arange(100)+1\n",
    "plt.bar(timeline[:18], cum_vaccinations[:18])\n",
    "plt.ylabel(\"Number of people vaccinated\")\n",
    "plt.xlabel(\"Number of days\")\n",
    "plt.title(\"Cumulative Number of people vaccinated every day\")\n",
    "plt.show()"
   ]
  },
  {
   "cell_type": "code",
   "execution_count": 28,
   "metadata": {},
   "outputs": [
    {
     "data": {
      "text/plain": [
       "[137000.0,\n",
       " 137000.0,\n",
       " 137000.0,\n",
       " 137000.0,\n",
       " 137000.0,\n",
       " 136997.0,\n",
       " 136997.0,\n",
       " 83511.0,\n",
       " 0.0,\n",
       " 0.0,\n",
       " 0.0,\n",
       " 0.0,\n",
       " 0.0,\n",
       " 0.0,\n",
       " 0.0,\n",
       " 0.0,\n",
       " 0.0,\n",
       " 0.0,\n",
       " 0.0,\n",
       " 0.0,\n",
       " 0.0,\n",
       " 0.0,\n",
       " 0.0,\n",
       " 0.0,\n",
       " 0.0]"
      ]
     },
     "execution_count": 28,
     "metadata": {},
     "output_type": "execute_result"
    }
   ],
   "source": [
    "vaccinations"
   ]
  },
  {
   "cell_type": "code",
   "execution_count": 29,
   "metadata": {},
   "outputs": [
    {
     "name": "stdout",
     "output_type": "stream",
     "text": [
      "Site: 1 \t 147790.0\n",
      "Site: 2 \t 0.0\n",
      "Site: 3 \t 166318.0\n",
      "Site: 4 \t 0.0\n",
      "Site: 5 \t 0.0\n",
      "Site: 6 \t 0.0\n",
      "Site: 7 \t 0.0\n",
      "Site: 8 \t 0.0\n",
      "Site: 9 \t 0.0\n",
      "Site: 10 \t 136997.0\n",
      "Site: 11 \t 0.0\n",
      "Site: 12 \t 0.0\n",
      "Site: 13 \t 0.0\n",
      "Site: 14 \t 0.0\n",
      "Site: 15 \t 90633.0\n",
      "Site: 16 \t 0.0\n",
      "Site: 17 \t 0.0\n",
      "Site: 18 \t 0.0\n",
      "Site: 19 \t 0.0\n",
      "Site: 20 \t 0.0\n",
      "Site: 21 \t 0.0\n",
      "Site: 22 \t 0.0\n",
      "Site: 23 \t 0.0\n",
      "Site: 24 \t 0.0\n",
      "Site: 25 \t 0.0\n",
      "Site: 26 \t 0.0\n",
      "Site: 27 \t 0.0\n",
      "Site: 28 \t 0.0\n",
      "Site: 29 \t 0.0\n",
      "Site: 30 \t 0.0\n",
      "Site: 31 \t 0.0\n",
      "Site: 32 \t 0.0\n",
      "Site: 33 \t 0.0\n",
      "Site: 34 \t 0.0\n",
      "Site: 35 \t 0.0\n",
      "Site: 36 \t 0.0\n",
      "Site: 37 \t 0.0\n",
      "Site: 38 \t 0.0\n",
      "Site: 39 \t 191193.0\n",
      "Site: 40 \t 0.0\n",
      "Site: 41 \t 309574.0\n",
      "Site: 42 \t 0.0\n",
      "Site: 43 \t 0.0\n",
      "Site: 44 \t 0.0\n",
      "Site: 45 \t 0.0\n",
      "Site: 46 \t 0.0\n",
      "Site: 47 \t 0.0\n"
     ]
    }
   ],
   "source": [
    "for j in sites:\n",
    "    print(\"Site:\", j+1, '\\t', sum(A[i,j].x*p[i] for i in zipcodes))"
   ]
  },
  {
   "cell_type": "code",
   "execution_count": 30,
   "metadata": {},
   "outputs": [
    {
     "name": "stdout",
     "output_type": "stream",
     "text": [
      "0.0 \t \t 0.0\n",
      "0.0 \t \t 0.0\n",
      "0.0 \t \t 0.0\n",
      "0.0 \t \t 0.0\n",
      "0.0 \t \t 0.0\n",
      "0.0 \t \t 0.0\n",
      "0.0 \t \t 0.0\n",
      "0.0 \t \t 0.0\n",
      "0.0 \t \t 0.0\n",
      "0.0 \t \t 0.0\n",
      "0.0 \t \t 0.0\n",
      "0.0 \t \t 0.0\n",
      "0.0 \t \t 0.0\n",
      "0.0 \t \t 0.0\n",
      "0.0 \t \t 0.0\n",
      "0.0 \t \t 0.0\n",
      "0.0 \t \t 0.0\n",
      "0.0 \t \t 0.0\n",
      "0.0 \t \t 0.0\n",
      "0.0 \t \t 0.0\n",
      "0.0 \t \t 0.0\n",
      "0.0 \t \t 0.0\n",
      "0.0 \t \t 0.0\n",
      "0.0 \t \t 0.0\n",
      "0.0 \t \t 0.0\n"
     ]
    }
   ],
   "source": [
    "j = 32\n",
    "for t in days:\n",
    "    print(I[j,t].x, '\\t', '\\t', X[j,t].x)"
   ]
  },
  {
   "cell_type": "code",
   "execution_count": 50,
   "metadata": {},
   "outputs": [
    {
     "name": "stdout",
     "output_type": "stream",
     "text": [
      "Done\n",
      "Done\n"
     ]
    }
   ],
   "source": [
    "# Writing to a csv file\n",
    "\n",
    "with open('Aij_Ben_max_distance.csv', 'w') as f:\n",
    "    for i in zipcodes:\n",
    "        for j in sites:\n",
    "            f.write(str(A[i,j].x) + ',')\n",
    "        f.write('\\n')\n",
    "print('Done')\n",
    "\n",
    "with open('Dij_Ben_max_distance.csv', 'w') as f:\n",
    "    for i in zipcodes:\n",
    "        for j in sites:\n",
    "            f.write(str(D[i,j]) + ',')\n",
    "        f.write('\\n')\n",
    "print('Done')"
   ]
  },
  {
   "cell_type": "code",
   "execution_count": null,
   "metadata": {},
   "outputs": [],
   "source": []
  }
 ],
 "metadata": {
  "kernelspec": {
   "display_name": "Python 3",
   "language": "python",
   "name": "python3"
  },
  "language_info": {
   "codemirror_mode": {
    "name": "ipython",
    "version": 3
   },
   "file_extension": ".py",
   "mimetype": "text/x-python",
   "name": "python",
   "nbconvert_exporter": "python",
   "pygments_lexer": "ipython3",
   "version": "3.8.3"
  }
 },
 "nbformat": 4,
 "nbformat_minor": 4
}
